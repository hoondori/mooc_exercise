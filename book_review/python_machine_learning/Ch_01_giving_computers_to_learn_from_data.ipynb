{
 "cells": [
  {
   "cell_type": "markdown",
   "metadata": {},
   "source": [
    "# Giving Computers the Ability to Learn from Data\n",
    "\n",
    "### Machine Learning\n",
    "\n",
    "- Self-learning for spotting patterns in data and make prediction model\n",
    "- turn data into knowledge\n",
    "- age of abboundant data, providing powerful open source libraries\n",
    "\n"
   ]
  },
  {
   "cell_type": "markdown",
   "metadata": {},
   "source": [
    "## Building intelligent machines to transform data into knowlege\n",
    "\n",
    "- as a subfield of artificial intelligence with self-learning\n",
    "- capturing the knowlege in data to gradually improve performance of predictive models\n",
    "- make data-driven decisions\n",
    "\n",
    "## The three different types of machine learning\n",
    "\n",
    "\n",
    "### Supervised learning\n",
    "\n",
    "- learn a model from labeled training data to make predictions about unseen or future data\n",
    "\n",
    "![](./images/ch01/01.png)\n",
    "\n",
    "#### Binary classification\n",
    "\n",
    "- spam classification\n",
    "- learn a model ( the dicision boundary )\n",
    "\n",
    "![](./images/ch01/02.png)\n",
    "\n",
    "#### Regression\n",
    "\n",
    "- find relationship between explanatory variables and continuous response variable\n",
    "- ex) predict Math SAT score based on time spent studying\n",
    "\n",
    "![](./images/ch01/03.png)\n",
    "\n",
    "\n",
    "### Reinforcement learning\n",
    "\n",
    "- develope a system(agent) that improves performance based on interactions with enviornment\n",
    "- reward signal but not superviesd signal\n",
    "- reward is not corrective ground truth label of value\n",
    "- learn a series of actions that maximize this reward via exploratory trial-and-error approach or deliberative planning\n",
    "\n",
    "![](./images/ch01/04.png)\n",
    "\n",
    "### Unsupervised learning\n",
    "\n",
    "- no right answer or no reward at all\n",
    "- discover/explore unknown structure of data to extract meaningful information\n",
    "\n",
    "#### Finding subgroups with clustering\n",
    "\n",
    "- find meaningful subgropus without any prior\n",
    "- unsuervised classification\n",
    "\n",
    "![](./images/ch01/05.png)\n",
    "\n",
    "#### Dimensionality reduction for data compression\n",
    "\n",
    "- when data of high dimensionality\n",
    " - challenge for limited sotrage and computation time\n",
    "- unsupervised dimensionality reduction\n",
    "- feature processing to remove noise from data\n",
    "\n",
    "![](./images/ch01/06.png)\n",
    "\n"
   ]
  },
  {
   "cell_type": "markdown",
   "metadata": {},
   "source": [
    "# Basic terminology and notations\n",
    "\n",
    "- matrix and vector notations\n",
    "- data instance\n",
    "- feature\n",
    "\n",
    "![](./images/ch01/07.png)\n",
    "![](./images/ch01/08.png)\n"
   ]
  },
  {
   "cell_type": "markdown",
   "metadata": {},
   "source": [
    "# A roadmap for building model\n",
    "\n",
    "![](./images/ch01/09.png)\n",
    "\n",
    "### Preprocessing – getting data into shape\n",
    "\n",
    "- find meaningful features from raw data\n",
    "- feature scaling like normalization\n",
    "- dimensionality reduction\n",
    "- randomly divide dataset to seperate train/test set\n",
    "\n",
    "#### Training and selecting a predictive model\n",
    "\n",
    "- various algorithm, various model form\n",
    "- use of cross-valiation : validation set\n",
    "- use of metrics to compare\n",
    "- use of hyperparameter opt for find-tuning\n",
    "\n",
    "\n",
    "#### Evaluating models and predicting unseen data instances\n",
    "\n",
    "- use test set to estimate generalization error\n",
    "- optimisitc \n"
   ]
  },
  {
   "cell_type": "markdown",
   "metadata": {},
   "source": [
    "# Using python for machine learning\n",
    "\n",
    "- numpy, scipy\n",
    " - opt for fast and vectorized operations on multi-array\n",
    "- pandas \n",
    " - opt for tabular data\n",
    "- matplotlib \n",
    " - for viz\n",
    "- conda "
   ]
  }
 ],
 "metadata": {
  "kernelspec": {
   "display_name": "Python 3",
   "language": "python",
   "name": "python3"
  },
  "language_info": {
   "codemirror_mode": {
    "name": "ipython",
    "version": 3
   },
   "file_extension": ".py",
   "mimetype": "text/x-python",
   "name": "python",
   "nbconvert_exporter": "python",
   "pygments_lexer": "ipython3",
   "version": "3.6.6"
  }
 },
 "nbformat": 4,
 "nbformat_minor": 2
}
