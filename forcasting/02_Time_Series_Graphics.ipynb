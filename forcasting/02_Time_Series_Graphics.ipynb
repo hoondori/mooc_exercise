{
 "cells": [
  {
   "cell_type": "markdown",
   "metadata": {},
   "source": [
    "# 2.1 ts objects\n",
    "\n",
    "* time series in R \n",
    "\n",
    "* ex) a few annual observations\n",
    "\n",
    "![](./images/ch02/01.png)\n",
    "\n",
    "* ex) monthly data stored in z vector turn into ts object\n",
    "\n",
    "![](./images/ch02/02.png)"
   ]
  },
  {
   "cell_type": "markdown",
   "metadata": {},
   "source": [
    "### Frequency of a time series\n",
    "\n",
    "* freq is # of obs before seasonal pattern repeat\n",
    "\n",
    "![](./images/ch02/03.png)\n",
    "\n",
    "\n",
    "* 일일 데이터가 \n",
    "  * 주간 경향성(weeekly seasonality, freq=7)을 가질 수도\n",
    "  * 연간 경향성(annualy seasonality, freq=365.25)\n",
    "* 분별 데이터가 \n",
    "  * 시간 경향성(hourly, freq=60)을 가질수도 \n",
    "  * 일간 경향성(daily, freq=60*24)를 가질 수도 \n",
    "  * 주간 경향성(weekly, freq=60*24*7)을 가질 수도\n",
    "*  (freq=7)\n",
    "\n"
   ]
  },
  {
   "cell_type": "markdown",
   "metadata": {},
   "source": [
    "# 2.2 Time plots\n",
    "\n",
    "* 데이터 포인트들이 직선 데이터로 연결된 plot\n",
    "\n",
    "### 예시 : 앤솟 항공사 주간 이코노미석 수송객수\n",
    "  * outlier 파악 \n",
    "    * 1989년에 0명 (due to industrial dispute)\n",
    "    * 1992년 추락 : 비즈니스석 개념 도입 \n",
    "  * seasonality 파악 \n",
    "    * 매년 초 추락 (due to holiday effect)\n",
    "  * missing data 파악\n",
    "![](./images/ch02/04.png)\n",
    "\n",
    "### 예시: 당요병약 월간 판매 그래프 \n",
    "  * 명확한 상승 경향\n",
    "  * 명확학 seasonal 경향 \n",
    "    * 연초에 급격 하락 (정부의 보조금 중단)\n",
    "    * 연말에는 급격 상승(보조금 중단 전 쟁기기)\n",
    "![](./images/ch02/05.png)\n"
   ]
  },
  {
   "cell_type": "markdown",
   "metadata": {},
   "source": [
    "# 2.3 Time series patterns\n",
    "\n",
    "### Trend \n",
    "\n",
    "* long-term increase/descres \n",
    "* 꼭 직선일 필요는 없다 \n",
    "\n",
    "### Seasonal\n",
    "\n",
    "* 계절적 (time of year, day of week) 패턴\n",
    "* 확정적이고(fixed), 잘 알려진(well-known) 주기\n",
    "\n",
    "### Cyclic\n",
    "\n",
    "* 아주 고정적인 주기로 상승/하강을 반복하는 것이 아닌 경우 \n",
    "* 주로 비즈니스 사이클을 생각하면 됨\n",
    "\n",
    "#### seasonal과 cycle은 다르다. \n",
    "\n",
    "* 고정 주기의 정도가 다르다. \n",
    "* 대체로 cycle의 평균 길이가 seasonal보다 길다. \n",
    "* 대체로 cycle의 크기(magnitude)가 seasonal보다 변동적(variable)하다. \n",
    "\n",
    "\n",
    "## Trend, Seasonal, Cyclic한 데이터의 예시들 \n",
    "\n",
    "* 신규 단독 가구 판매수\n",
    "  * no trend\n",
    "  * seasonality whitin a year\n",
    "  * cyclic of 6-10 year\n",
    "* 미국 재무증권 발행수\n",
    "  * 명확한 감소 트랜드\n",
    "  * no seasonality\n",
    "  * downward trend는 실은 거대한 사이클의 일부일지도\n",
    "  \n",
    "![](./images/ch02/06.png)\n",
    "\n",
    "* 호주 전기 생산량\n",
    "  * 명확한 상승 트랜드 \n",
    "  * 명확한 seasonality\n",
    "  * no cycle\n",
    "* 구글 일별 종가\n",
    "  * no trend\n",
    "  * no seasonality\n",
    "  * no cycle\n",
    "  * 마치 잡음같다.\n",
    "![](./images/ch02/07.png)\n",
    "\n"
   ]
  },
  {
   "cell_type": "markdown",
   "metadata": {},
   "source": [
    "# 2.4 Seasonal plots\n",
    "\n",
    "* 월별 당요병약 판매량 (연도별 구분)\n",
    " \n",
    "![](./images/ch02/08.png)\n",
    "\n",
    "* 월별 당요병약 판매량의 polar plot\n",
    "\n",
    "![](./images/ch02/09.png)"
   ]
  },
  {
   "cell_type": "markdown",
   "metadata": {},
   "source": [
    "# 2.5 Seasonal subseries plots\n",
    "\n",
    "* 각 시즌(당뇨병 예제에서는 각 월별) 데이터별로 sub-series를 구성해서 별도 plot\n",
    "  * show changes in seasonality over time\n",
    "  * identify changes within a particular season\n",
    "\n",
    "![](./images/ch02/10.png)"
   ]
  },
  {
   "cell_type": "markdown",
   "metadata": {},
   "source": [
    "# 2.6 Scatter plot"
   ]
  },
  {
   "cell_type": "markdown",
   "metadata": {},
   "source": [
    "# 2.7 Lag plot\n",
    "\n",
    "* x축은 t-k 시점의 데이터, y축은 t시점의 데이터 \n",
    "* lag값인 k에 따라서 달라짐, 동일(유사)그림이 나오면 strong seasonality의 증거\n",
    "\n",
    "### ex) 호주 맥주 판매량\n",
    "\n",
    "* lag 4와 lag 8은 strong positive relationship\n",
    "* lag 2와 lag 6은 strong negative relatiionship\n",
    "![](./images/ch02/11.png)\n",
    "![](./images/ch02/12.png)\n"
   ]
  },
  {
   "cell_type": "markdown",
   "metadata": {},
   "source": [
    "# 2.8 Autocorrelation\n",
    "\n",
    "* correlation measures the extent of a linear relationship between two variables, \n",
    "* autocorrelation measures the linear relationship between lagged values\n",
    "\n",
    "* 예시 : 호주 맥주 판매량 \n",
    "![](./images/ch02/13.png)\n",
    "![](./images/ch02/14.png)\n",
    "\n",
    "### Trend and seasonality in ACF plots\n",
    "\n",
    "* 데이터에 trend가 있는 경우 ACF plot은 \n",
    "  * small lags에서는 값이 크다가, lag가 커지면서 점점 작아진다.\n",
    "* 데이터가 seasonal한 경우 ACF plot은 \n",
    "  * seasonal lag에서는 크다. \n",
    "* 데이터가 trend하고 동시에 seasonal한 경우 ACF는 두가지 효과가 다 드러난다.\n",
    "\n",
    "* 예시 : 호주 월별 전기 수요량 \n",
    "  * 확실히 seasonality가 있음을 알 수 있다.\n",
    "  * 전반적으로 작아지는 것으로 봐서 trend가 있음을 알 수 있다.\n",
    "  \n",
    "![](./images/ch02/15.png)\n",
    "![](./images/ch02/16.png)\n"
   ]
  },
  {
   "cell_type": "markdown",
   "metadata": {},
   "source": [
    "# 2.9 White noise\n",
    "\n",
    "* ACF plot에서 어떠한 특성도 발견할 수 없는 경우를 white noise라고 한다.\n",
    "\n",
    "![](./images/ch02/17.png)\n",
    "![](./images/ch02/18.png)\n",
    "\n",
    "* 보다 정확히는\n",
    "  * 이상적으로는 모든 acf값이 0에 근접해야 한다. \n",
    "  * 0이 아니더라도 매우 작아야 한다. \n",
    "    * 적어도 95% 정도의 spike는 2/sqrt(T) 의 이내에 머물러야 한다.\n",
    "    * 이러한 bound를 blue dash line으로 표현\n",
    "  * 5% 이상의 spike가 bound 밖에서 발견된다면 white noise가 아니라고 본다. "
   ]
  },
  {
   "cell_type": "code",
   "execution_count": null,
   "metadata": {},
   "outputs": [],
   "source": [
    "\n"
   ]
  }
 ],
 "metadata": {
  "kernelspec": {
   "display_name": "Python 3",
   "language": "python",
   "name": "python3"
  },
  "language_info": {
   "codemirror_mode": {
    "name": "ipython",
    "version": 3
   },
   "file_extension": ".py",
   "mimetype": "text/x-python",
   "name": "python",
   "nbconvert_exporter": "python",
   "pygments_lexer": "ipython3",
   "version": "3.6.6"
  }
 },
 "nbformat": 4,
 "nbformat_minor": 2
}
