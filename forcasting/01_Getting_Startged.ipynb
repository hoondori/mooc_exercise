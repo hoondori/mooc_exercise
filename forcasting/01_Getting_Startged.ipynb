{
 "cells": [
  {
   "cell_type": "markdown",
   "metadata": {},
   "source": [
    "# 1.1 What can be forcast\n",
    "\n",
    "### 무엇이 예측 가능한 것인가? 난이도도 제각기 다르다.\n",
    "\n",
    "* 내일 해가 뜨는 것은 매우 정확하게 예측할 수 있지만, 로또를 예측하는 것은 매우 부정확\n",
    "* 다음 요소에 의존적\n",
    "  * 예측에 연관된 요소(factor)들을 얼마나 잘 알고/이해하는가\n",
    "  * 데이터를 많이 가지고 있는가?\n",
    "  * 예측이 예측하려고 하는 것에 영향을 주는가?\n",
    "\n",
    "* Ex) 전기 수요 예측은 위 세 요소가 충족되어서 꽤 정확히 예측 \n",
    "  * Depends on temparature, weather\n",
    "  * History of weather data 충분\n",
    "  * Good model linking btw demand and weather \n",
    "- Ex) 반면 환율 예측은 매우 어렵다. \n",
    "  * 데이터만 충분하지, factor finding이 어렵고, 예측이 예측에 다시 영향을 주는 구조\n",
    "\n",
    "### 변해도 예측 가능하다.\n",
    "\n",
    "* 변화하는 환경에서는 예측이 불가능하다고 여겨지지만 실은 그렇게 가정한 적이 없다. \n",
    "* 오히려 변화하는 경향이 미래에도 계속될 것을 가정을 한다. \n",
    "* 예를 들어 비즈니스는 항상 부침이 있는 것이고, 경기도 항상 부침이 있는 것이다. \n",
    "* 예측은 오히려 이러한 변동성을 캡쳐를 잘 하는 것이다. \n"
   ]
  },
  {
   "cell_type": "markdown",
   "metadata": {},
   "source": [
    "# 1.2 Forcating, Planning, Goals\n",
    "\n",
    "### 서로 다르다. \n",
    "\n",
    "#### Forcasting\n",
    "\n",
    "* 미래를 정확하게 예측(predict)하려고 하는 것\n",
    "  * 주어진 정보 기반 (historical data, 연관 미래 이벤트들)\n",
    "\n",
    "#### Goal\n",
    "\n",
    "* 일어났으면 하는 미래\n",
    "* forcast와 plan과 연계되지 않으면 그냥 개꿈\n",
    "\n",
    "#### Planning\n",
    "\n",
    "* forcast와 goal에 대한 응답(response)\n",
    "* forcast대로 실제 goal이 달성되기 위해 할 적절한 행동들을 결정짓는 것\n",
    "\n"
   ]
  },
  {
   "cell_type": "markdown",
   "metadata": {},
   "source": [
    "### 기간별 예측 구분 \n",
    "\n",
    "#### 단기 예측 : 인사,생산,수송 \n",
    "#### 중장기 예측 : 미래 자원 수요 예측\n",
    "#### 장기 예측 : 전략적 계획에 사용, 미래 마켓 시회, 환경 요인 예측\n",
    "\n"
   ]
  },
  {
   "cell_type": "markdown",
   "metadata": {},
   "source": [
    "# 1.3 Determining what to forcast\n",
    "\n",
    "* 무엇을 예측할 것인가를 먼저 잘 정하는 것이 중요하다. \n",
    "* 추가적으로는 \n",
    "  * Forcast horizon : 한달 후만 예측하면 돼? 아님 6개월 이상도 예측해야 하나?\n",
    "  * Forcast frequency : 얼마나 자주 예측을 갱신해야 하나?, 자동화된 예측이 필수일 것이다. \n",
    "\n"
   ]
  },
  {
   "cell_type": "markdown",
   "metadata": {},
   "source": [
    "# 1.4 Forcating data and methods\n",
    "\n",
    "사용 가능한 데이터에 따라 분류해 보면\n",
    "\n",
    "#### Qualitative forcasting \n",
    "\n",
    "* 필요 데이터가 없거나, 있어도 연관성이 떨어질 때 \n",
    "* 그렇다고 그냥 guesswork은 아니다. \n",
    "* 매우 잘 구조화된 접근으로 고품질의 forcast를 얻어야 한다. (Chapter 4)\n",
    "\n",
    "#### Quantative forcasting\n",
    "\n",
    "* 과거 수치적 데이터를 활용 가능할 때, 그리고 그 데이터 패턴이 미래에도 나타날 것이라는 가정이 성립할 때 \n",
    "* 이 책에서는 특히 시계열(time-series) 데이터에 집중 \n",
    "\n",
    "\n",
    "### Time series forcasting\n",
    "\n",
    "* 시계열 데이터 예시 : 일별 주가 정보, 월별 강우량, 분기별 판매 정보, 연별 수익 정보\n",
    "* 이 책에서는 특히 주기화된 (시별, 일별, 주별, 월별, ..) 데이터만 다룬다. \n",
    "\n",
    "* 연별 데이터와 forcast 예시 \n",
    "  * 수십년치 과거 연별 데이터로 향후 2년치 예측 \n",
    "  * prediction interval : uncertainty 정도\n",
    "  \n",
    "![](./images/ch01/01.png)\n",
    "  \n",
    "\n",
    "* 가장 간단한 시계열 예측 방법은 오직 (과거) 정보만 사용한다 \n",
    "  * 그 밖의 정보(예를 들어 marketing iniitiatives, 경쟁자의 활동, 경졔 상황)들을 활용하지 않는다. \n",
    "  * 단순한 외삽(extrapolate)이다. \n",
    "  * 새로운 요인(factor)를 발견해 내려는 시도를 하지 않는다. \n",
    "  \n",
    "* 시계열 모델의 예시로는 \n",
    "  * decomposition model (ch 6)\n",
    "  * exponential smoothing (ch 7)\n",
    "  * ARIMA (ch 8)\n"
   ]
  },
  {
   "cell_type": "markdown",
   "metadata": {},
   "source": [
    "# 1.6 The basic steps in a forecasting task\n",
    "\n",
    "### Step 1. 문제 정의\n",
    "\n",
    "* 가장 여렵고/중요한 부분, \n",
    "* 문제 정의는 예측의 활용 시나리오, 조직 내에서의 적합성 등을 두루 살피는 것\n",
    "* 연관 부서들과 많이 이야기해야 하는 시간 필요\n",
    "\n",
    "### Step 2. 정보 수집\n",
    "\n",
    "* 통계(과거) 데이터의 수집 \n",
    "* 양이 많지 않다면 jugmental forcast(ch 4) 를 하는 것으로 대응\n",
    "* 과거 활용 가능한 데이터의 양이 많더라도 데이타 특성이 시간에 따라 구조 변화가 심한 경우 무쓸모라고 생각할 수도 있으나.. 아니다. 버리지 말라\n",
    "\n",
    "### Step 3. 탐험(explorator)적 분석 \n",
    "\n",
    "* 항상 시각적으로 표현해서 분석해랴\n",
    "* 일관성의 발견, 트랜드의 발견, cycle의 발견, outlier의 발견, 변수간의 상관성/방향성의 발견\n",
    "\n",
    "### Step 4. 모델 선정 및 피팅(fit)\n",
    "\n",
    "* Regressin model (ch5)\n",
    "* exponential smoothig (ch7)\n",
    "* ARIMA (ch8)\n",
    "* dynamic regression (ch9)\n",
    "* hierachical forcasting (ch10)\n",
    "* 딥러닝 (ch11)\n",
    "\n",
    "\n",
    "### Step 5: Using and evaluating a forecasting model.\n",
    "\n",
    "* 성능 평가 \n",
    "* 예측 결과를 사용하고 반응하는 조직 내의 이슈 (ch 3)\n",
    "* 현실 세게의 불완전 데이터(missing, outlier)에 관련된 이슈 (ch 12) "
   ]
  },
  {
   "cell_type": "markdown",
   "metadata": {},
   "source": [
    "# 1.7 The statistical forecasting perspective\n",
    "\n",
    "* 예측 대상은 모르는 것(Unknown)이므로 확률 변수(random variable)이다. \n",
    "* 보통 먼 미래를 예측하면 할수록 불확실성은 높아만 간다. \n",
    "\n",
    "### Point forcast \n",
    "* 예측 각각을 낱개로 보여주는 방식 \n",
    "* 아래 그림은 미래 호주 방문객 예측을 10개의 인스턴스(?)로 쌩으로 보여주는 방식\n",
    "\n",
    "![](./images/ch01/02.png)\n",
    "\n",
    "### Forcast distribution 시각화 \n",
    "* 보통은 아래처럼 prediction interval을 활용해서 보여주는 게 효과적\n",
    "\n",
    "![](./images/ch01/03.png)"
   ]
  }
 ],
 "metadata": {
  "kernelspec": {
   "display_name": "Python 3",
   "language": "python",
   "name": "python3"
  },
  "language_info": {
   "codemirror_mode": {
    "name": "ipython",
    "version": 3
   },
   "file_extension": ".py",
   "mimetype": "text/x-python",
   "name": "python",
   "nbconvert_exporter": "python",
   "pygments_lexer": "ipython3",
   "version": "3.6.6"
  }
 },
 "nbformat": 4,
 "nbformat_minor": 2
}
