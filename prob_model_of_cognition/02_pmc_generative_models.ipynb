{
 "cells": [
  {
   "cell_type": "markdown",
   "metadata": {},
   "source": [
    "# Ch2 Generative Models"
   ]
  },
  {
   "cell_type": "markdown",
   "metadata": {},
   "source": [
    "##  Models, Simulation, and degree of belief\n",
    "---\n",
    "** Working Model ** of the world\n",
    "* Model : it captures some of **structure** of the world, but not all all\n",
    "* Working : it can **simulate** the world with different initial conditions\n",
    "\n",
    "\n"
   ]
  },
  {
   "cell_type": "markdown",
   "metadata": {},
   "source": [
    "### See Plinko example \n",
    "---\n",
    "* approximation of world : discrete grid and discrete bins\n",
    "* simulation produce shape of expected outcomes\n",
    "* can be formalized as probability distribution\n",
    "* connection between simulation and probability"
   ]
  },
  {
   "cell_type": "markdown",
   "metadata": {},
   "source": [
    "### Building Generative models\n",
    "---\n",
    "formal description of how to generate states of the world\n",
    "\n",
    "by λ-calculus\n",
    "* 1936, Alonzo Church\n",
    "\n",
    "by Scheme-style Church progamming language\n",
    "* LISP \n",
    " * 1958, McCarchy\n",
    " * a programming language based on λ-calculus\n",
    "* Scheme\n",
    " * variant of LISP\n",
    "* Church \n",
    " * tenenbaum, 2008\n",
    " * programming language with scheme-style\n",
    "* WebChurch\n",
    " * interactive shell on browser\n",
    " "
   ]
  },
  {
   "cell_type": "markdown",
   "metadata": {},
   "source": [
    "### Tutorial of Church\n",
    "\n",
    "Exchangeable Random Primitives(XRPs)\n",
    "* as a sampler\n",
    "* as a distribution\n",
    "\n",
    "![](./images/ch02/1.png)\n",
    "![](./images/ch02/2.png)\n",
    "\n",
    "Stochastic function\n",
    "* define function\n",
    "* thunk : lambda with zero arguments\n",
    "\n",
    "![](./images/ch02/3.png)\n",
    "\n"
   ]
  },
  {
   "cell_type": "markdown",
   "metadata": {},
   "source": [
    "## Example : Coin toss\n",
    "\n",
    "See the techniques\n",
    "* labmda with single arguments\n",
    "* higher-order function : accept function as input arguments\n",
    "* map \n",
    "\n",
    "\n",
    "![](./images/ch02/4.png)\n",
    "![](./images/ch02/5.png)\n"
   ]
  },
  {
   "cell_type": "markdown",
   "metadata": {},
   "source": [
    "### Example : Causal Models in Medical Diagnosis\n",
    "\n",
    "Dieseases cause to generate symtoms\n",
    "\n",
    "![](./images/ch02/6.png)\n",
    "\n",
    "probablistically causing, not deterministically\n",
    "\n",
    "![](./images/ch02/7.png)\n",
    "\n"
   ]
  },
  {
   "cell_type": "markdown",
   "metadata": {},
   "source": [
    "## Prediction, Simulation, and Probabilities"
   ]
  },
  {
   "cell_type": "markdown",
   "metadata": {},
   "source": [
    "### Production rule\n",
    "---\n",
    "\n",
    "P(A,B) = P(A)P(B) if A, B independent\n",
    "\n",
    "![](./images/ch02/8.png)\n",
    "\n",
    "P(A,B) = P(A)P(B|A) if A, B not independent\n",
    "\n",
    "![](./images/ch02/9.png)\n",
    "\n",
    "P(A)P(B∣A)=P(B)P(A∣B) => Bayes' Theorem\n",
    "\n"
   ]
  },
  {
   "cell_type": "markdown",
   "metadata": {},
   "source": [
    "### Sum Rule or Marginalization\n",
    "---\n",
    "\n",
    "marginalization\n",
    "* summing over all the possible “histories” that could lead to a return value\n",
    "\n",
    "![](./images/ch02/10.png)\n",
    "\n"
   ]
  },
  {
   "cell_type": "markdown",
   "metadata": {},
   "source": [
    "### Stochastic recursion\n",
    "---\n",
    "\n",
    "Stochastically recursive call\n",
    "\n",
    "Geometric distribution\n",
    "* number of tail until first head occurance\n",
    "\n",
    "![](./images/ch02/11.png)\n",
    "![](./images/ch02/12.png)\n"
   ]
  },
  {
   "cell_type": "markdown",
   "metadata": {},
   "source": [
    "### Persistent Randomness: mem\n",
    "---\n",
    "\n",
    "Object has random property, but it is not persistent\n",
    "\n",
    "![](./images/ch02/13.png)\n",
    "\n",
    "memoization\n",
    "* random and also persistent\n",
    "* lazy evaluation and fix(or cache) it\n",
    "* In scala, it is lazy val\n",
    "\n",
    "![](./images/ch02/14.png)\n"
   ]
  },
  {
   "cell_type": "markdown",
   "metadata": {
    "collapsed": true
   },
   "source": [
    "### Example : Baysian Tug of War (줄다리기)\n",
    "---\n",
    "\n",
    "Each person may be probablistically\n",
    "* strong or not\n",
    "* lazy or not\n",
    "\n",
    "Memoization\n",
    "* strength need to be persistent\n",
    "* laziness may be transient\n",
    "\n",
    "![](./images/ch02/15.png)\n",
    "\n"
   ]
  },
  {
   "cell_type": "markdown",
   "metadata": {},
   "source": [
    "### Example : Intuitive Physics\n",
    "\n",
    "human may have generative working model of real physics, with\n",
    "* approximation\n",
    " * approximate Newtonial physics\n",
    " * runPhysics\n",
    "* noise\n",
    "\n",
    "![](./images/ch02/16.png)\n",
    "![](./images/ch02/17.png)\n",
    "![](./images/ch02/18.png)\n",
    "![](./images/ch02/19.png)\n",
    "\n"
   ]
  },
  {
   "cell_type": "code",
   "execution_count": null,
   "metadata": {
    "collapsed": true
   },
   "outputs": [],
   "source": []
  }
 ],
 "metadata": {
  "kernelspec": {
   "display_name": "Python 2",
   "language": "python",
   "name": "python2"
  },
  "language_info": {
   "codemirror_mode": {
    "name": "ipython",
    "version": 2
   },
   "file_extension": ".py",
   "mimetype": "text/x-python",
   "name": "python",
   "nbconvert_exporter": "python",
   "pygments_lexer": "ipython2",
   "version": "2.7.11"
  }
 },
 "nbformat": 4,
 "nbformat_minor": 0
}
