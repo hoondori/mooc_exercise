{
 "cells": [
  {
   "cell_type": "markdown",
   "metadata": {},
   "source": [
    "# Ch 1. Introduction\n",
    "\n",
    "## What is thought?\n",
    "___\n",
    "how to describe human reasoning & learning?\n",
    "\n",
    "#### As a computer program\n",
    "* Mind is computer\n",
    "* Thinking is function from inputs to outputs\n",
    " * inputs : percetion from sensers, facts from memory\n",
    " * outputs : intelligent behaviors\n",
    "* Each task is supported by specific functions\n",
    "* Discriminative?\n",
    "\n",
    "#### As a **generative** approach\n",
    "* mind models the world generally\n",
    "* some piece of knowlege support many inferences in many situations\n",
    "* Not just simple input-to-output mapping"
   ]
  },
  {
   "cell_type": "markdown",
   "metadata": {},
   "source": [
    "## Generative models\n",
    "___\n",
    "knowledge about **casual structure of the world**\n",
    "\n",
    "be used to **generate observable data** \n",
    "\n",
    "be used to answer many different questions by conditional inference\n",
    "\n",
    "ex) lingustics : piece of grammer generate possible sentences"
   ]
  },
  {
   "cell_type": "markdown",
   "metadata": {},
   "source": [
    "## Probabilistic GM and λ-calculus\n",
    "---\n",
    "deterministic GM : no randomness\n",
    "\n",
    "probabilisitic GM\n",
    "* with randomness\n",
    "* with probablistic inferences\n",
    "\n",
    "λ-calculus\n",
    "* universal model of computation \n",
    "* simulate any single-taped Turing machine\n",
    "* introduced by mathematician Alonzo Church in the 1930s\n",
    "\n",
    "stochastic λ-calculus"
   ]
  },
  {
   "cell_type": "code",
   "execution_count": null,
   "metadata": {
    "collapsed": true
   },
   "outputs": [],
   "source": []
  }
 ],
 "metadata": {
  "kernelspec": {
   "display_name": "Python 2",
   "language": "python",
   "name": "python2"
  },
  "language_info": {
   "codemirror_mode": {
    "name": "ipython",
    "version": 2
   },
   "file_extension": ".py",
   "mimetype": "text/x-python",
   "name": "python",
   "nbconvert_exporter": "python",
   "pygments_lexer": "ipython2",
   "version": "2.7.11"
  }
 },
 "nbformat": 4,
 "nbformat_minor": 0
}
