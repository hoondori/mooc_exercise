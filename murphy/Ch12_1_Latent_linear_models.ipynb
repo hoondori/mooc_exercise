{
 "cells": [
  {
   "cell_type": "markdown",
   "metadata": {},
   "source": [
    "# Review on discrete distribution\n",
    "\n",
    "## Bernoulli\n",
    "### 1 try coin toss, being head\n",
    "![](./images/ch12/80.png)\n",
    "\n",
    "## Binomial\n",
    "### n try coin toss, count # of head\n",
    "![](./images/ch12/79.png)\n",
    "\n",
    "## Multinomial\n",
    "### n try dice toss, count each side\n",
    "![](./images/ch12/81.png)\n",
    "\n",
    "## Muitinoulli\n",
    "### 1 try dice toss, being one of side\n",
    "![](./images/ch12/82.png)\n",
    "![](./images/ch12/84.png)\n",
    "\n",
    "## Totallly\n",
    "\n",
    "![](./images/ch12/83.png)\n"
   ]
  },
  {
   "cell_type": "markdown",
   "metadata": {},
   "source": [
    "# Review on SoftMax\n",
    "\n",
    "* SoftMax is exp andThen normalize\n",
    "* unnormalized score to normalized probabilities\n",
    "\n",
    "![](./images/ch12/85.png)\n",
    "![](./images/ch12/86.png)"
   ]
  },
  {
   "cell_type": "markdown",
   "metadata": {},
   "source": [
    "# Review on Dirichilet distribution and prob. simplex\n",
    "\n",
    "## ex) 3-side dice\n",
    "\n",
    "![](./images/ch12/88.png)\n",
    "![](./images/ch12/89.png)\n"
   ]
  },
  {
   "cell_type": "markdown",
   "metadata": {},
   "source": [
    "# 12.4 PCA for categorical data\n",
    "\n",
    "* observed data is categorical rather than real-valued\n",
    "* note) Ch11, dealt with latent variable is not-real-valued\n",
    "* R 개의 dice를 동시에 던지기 \n",
    "\n",
    "![](./images/ch12/87.png)\n",
    "\n",
    "\n",
    "## example, dice is 3-sided, W1 induce distribution on 3-dim simplex\n",
    "\n",
    "![](./images/ch12/90.png)\n",
    "\n",
    "## posterior inference : E[z|y]\n",
    "* visualization of high-dim categorical data\n",
    "\n",
    "![](./images/ch12/91.png)\n"
   ]
  },
  {
   "cell_type": "markdown",
   "metadata": {},
   "source": [
    "# Review on entropy and mutual information\n",
    "\n",
    "## entroy\n",
    "* measure of uncertainty\n",
    "* average number of bits needed to encode data coming from a source with distribution p when we use true model\n",
    "\n",
    "![](./images/ch12/96.png)\n",
    "![](./images/ch12/97.png)\n",
    "\n",
    "## Cross entropy\n",
    "* average number of bits needed to encode data coming from a source with distribution p when we use model q\n",
    "\n",
    "![](./images/ch12/98.png)\n",
    "\n",
    "## KL divergence ( relative entropy)\n",
    "* difference between two dist.\n",
    "\n",
    "![](./images/ch12/99.png)\n",
    "\n",
    "\n",
    "## Mutual information\n",
    "\n",
    "* limited measure of dependency\n",
    "\n",
    "![](./images/ch12/100.png)\n",
    "![](./images/ch12/101.png)\n",
    "\n"
   ]
  },
  {
   "cell_type": "markdown",
   "metadata": {},
   "source": [
    "# 12.5 PCA for paired and multi-view data\n",
    "\n",
    "* ex. pair data : movie-user\n",
    "* data fusion : predict one from the other via low-dim bottleneck\n"
   ]
  },
  {
   "cell_type": "markdown",
   "metadata": {},
   "source": [
    "# 12.5.1 Supervised PCA (latent factor regression)\n",
    "-----\n",
    "\n",
    "* two data set : X, y \n",
    "* Compressing X to predict y\n",
    "\n",
    "<img style=\"float: left;\" src=\"./images/ch12/92.png\" width=\"300\">\n",
    "<img style=\"float: left;\" src=\"./images/ch12/93.png\" width=\"500\">\n",
    "\n",
    "![](./images/ch12/94.png)\n",
    "\n",
    "\n",
    "\n",
    "## Tradeoff between compression and prediction\n",
    "-----\n",
    "\n",
    "![](./images/ch12/102.png)\n",
    "\n",
    "\n",
    "\n",
    "# Canonical correlation analysis (CCA)\n",
    "-----\n",
    "\n",
    "* Each data has its own latent factors, also share common factors with the other\n",
    "* Application to collaborative filtering : movie-user\n",
    "  * knowledge of who your friends are, as well as the ratings of all other users, should help predict which movies you will like\n",
    "\n",
    "<img style=\"float: left;\" src=\"./images/ch12/95.png\" width=\"500\">\n",
    "\n",
    "\n",
    "\n"
   ]
  },
  {
   "cell_type": "code",
   "execution_count": null,
   "metadata": {
    "collapsed": true
   },
   "outputs": [],
   "source": [
    "12.5.1.1 Discriminative supervised PCA\n",
    "12.5.2 Partial least squares\n",
    "12.5.3 Canonical correlation analysis\n",
    "12.6 Independent Component Analysis (ICA)"
   ]
  }
 ],
 "metadata": {
  "kernelspec": {
   "display_name": "Python 2",
   "language": "python",
   "name": "python2"
  },
  "language_info": {
   "codemirror_mode": {
    "name": "ipython",
    "version": 2
   },
   "file_extension": ".py",
   "mimetype": "text/x-python",
   "name": "python",
   "nbconvert_exporter": "python",
   "pygments_lexer": "ipython2",
   "version": "2.7.11"
  }
 },
 "nbformat": 4,
 "nbformat_minor": 0
}
