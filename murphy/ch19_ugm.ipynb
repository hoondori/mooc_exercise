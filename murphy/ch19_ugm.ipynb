{
 "cells": [
  {
   "cell_type": "markdown",
   "metadata": {},
   "source": [
    "# Ch19 Undirected Graphical Model"
   ]
  },
  {
   "cell_type": "markdown",
   "metadata": {},
   "source": [
    "## Review\n",
    "### CI property\n",
    "\n",
    "* Global\n",
    "  * (1,2) ㅗ  (6,7) | (3,5,4) \n",
    "* Local\n",
    "  * 5 ㅗ (1,2,6,7) | mb(5)\n",
    "* Pairwise\n",
    "  * 1 ㅗ 7 | rest\n",
    "![](./images/ch19/01.png)\n",
    "\n",
    "\n",
    "![](./images/ch19/03.png) \n",
    "\n",
    "### Clique\n",
    "\n",
    "* Clique - 비밀 사교 그룹, 모두 각각 알아야, 친구의 친구라는 것은 없음, ex) {5,6,7}\n",
    "* Maximal Clique - 확장 가능한 최대치, 한 명 더 추가시 친구의 친구가 발생, ex) {4,5,6,7}\n",
    "* Maximum Clique - 한 그래프 내에 가능한 최고 크기의 maximal clique\n",
    "\n"
   ]
  },
  {
   "cell_type": "markdown",
   "metadata": {},
   "source": [
    "### Joint Dist Representation\n",
    "\n",
    "* DGM(bayes-net) 의 경우 \n",
    "  * topological ordering\n",
    "  * chain rule \n",
    "  * product of CPD\n",
    "\n",
    "![](./images/ch19/04.png) \n",
    "\n",
    "* UGM 의 경우 \n",
    "  * no topological ordering\n",
    "  * use clique\n",
    "  * use potential\n",
    "  * with Hammersley-Clifford thm, can be factorized as well\n",
    "  * use energy-based\n",
    "  \n",
    "![](./images/ch19/05.png) \n",
    "![](./images/ch19/06.png) \n",
    "![](./images/ch19/07.png) \n",
    "\n",
    "### Log-linear model\n",
    "\n",
    "* define log potentials as linear function of parameters\n",
    "  * energy is just product of weight and value itself\n",
    "\n",
    "![](./images/ch19/08.png) \n",
    "\n",
    "* log-probability\n",
    "\n",
    "![](./images/ch19/09.png) "
   ]
  },
  {
   "cell_type": "markdown",
   "metadata": {},
   "source": [
    "## Learning\n",
    "\n",
    "* how to perform ML and MAP parameter estimation for MRFs \n",
    "* computationally expensive\n",
    "\n",
    "### Training maxent models using graident methods\n",
    "\n",
    "* with N training data, training objective is \n",
    "\n",
    "![](./images/ch19/10.png) \n",
    "\n",
    "* derivate w.r.t a particular clique c,\n",
    "\n",
    "![](./images/ch19/11.png) \n",
    "\n",
    "* derivate of log-partition w.r.t parameter is expectation of c'th feature under the model\n",
    "\n",
    "![](./images/ch19/12.png) \n",
    "\n",
    "\n",
    "* gradient \n",
    "  * expectation of empirirical dist - expectation of model's prediction\n",
    "  * first : clamped term\n",
    "    * apply all data to a fixed clieuq\n",
    "  * second : unclamed term, contrastive term\n",
    "    * require inference in the model at each gradient update => very very slow\n",
    "\n",
    "![](./images/ch19/13.png) \n",
    "\n",
    "![](./images/ch19/14.png) \n",
    "\n",
    "* At optimal \n",
    "  * both expectation is same\n",
    "  * moment matching"
   ]
  },
  {
   "cell_type": "markdown",
   "metadata": {},
   "source": [
    "### Training partially observed maxent models\n",
    "\n",
    "* missing data or hidden variables in the model \n",
    "\n",
    "![](./images/ch19/15.png) \n",
    "\n",
    "* gradient\n",
    "\n",
    "![](./images/ch19/16.png) \n",
    "\n"
   ]
  },
  {
   "cell_type": "markdown",
   "metadata": {},
   "source": [
    "## Approximate methods for computing MLEs of MRFs\n",
    "\n",
    "### Pseudo likelihood\n",
    "\n",
    "* convential likelihood\n",
    "\n",
    "![](./images/ch19/17.png) \n",
    "\n",
    "* maximize pseudo likelihood instead of likelihood\n",
    "  * Besag, 1975\n",
    "  * In the case of Gaussian MRFs, PL is equivalent to ML (Besag 1975), but this is not true in general\n",
    "  * but very fast than convential ML-based\n",
    "  * assume known neighboring values\n",
    "  * hard to apply to hidden case\n",
    "  \n",
    "![](./images/ch19/18.png) \n",
    "\n",
    "![](./images/ch19/19.png) \n"
   ]
  },
  {
   "cell_type": "markdown",
   "metadata": {},
   "source": [
    "### Stochastic ML\n",
    "\n",
    "* recall\n",
    "\n",
    "![](./images/ch19/14.png) \n",
    "\n",
    "* model expectation by sampling\n",
    "  * sample at each mini-batch => very expensive\n",
    "  * alternatively, reuse previous samples \n",
    "\n",
    "![](./images/ch19/20.png) \n"
   ]
  },
  {
   "cell_type": "markdown",
   "metadata": {},
   "source": [
    "### Iterative Proportional Fitting(IPF)\n",
    "\n",
    "* setting\n",
    "  * pair-wise\n",
    "  * table with one parameter per variable setting\n"
   ]
  }
 ],
 "metadata": {
  "kernelspec": {
   "display_name": "Python 3",
   "language": "python",
   "name": "python3"
  },
  "language_info": {
   "codemirror_mode": {
    "name": "ipython",
    "version": 3
   },
   "file_extension": ".py",
   "mimetype": "text/x-python",
   "name": "python",
   "nbconvert_exporter": "python",
   "pygments_lexer": "ipython3",
   "version": "3.6.2"
  }
 },
 "nbformat": 4,
 "nbformat_minor": 2
}
