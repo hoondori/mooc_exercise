{
 "cells": [
  {
   "cell_type": "markdown",
   "metadata": {},
   "source": [
    "# Ch 20. Exact inference for graphical models"
   ]
  },
  {
   "cell_type": "markdown",
   "metadata": {
    "collapsed": true
   },
   "source": [
    "## Review on chain-structured inference\n",
    "\n",
    "* posterior marginals\n",
    "* posterior mode\n",
    "* posterior sampling\n",
    "* filtering and smoothing\n",
    "\n",
    "## Generalization\n",
    "\n",
    "* to any graph\n",
    "* to undirected and directed\n",
    "\n"
   ]
  },
  {
   "cell_type": "markdown",
   "metadata": {},
   "source": [
    "## Belief propagation for trees\n",
    "### Serial protocol\n",
    "\n",
    "* belief propagation (BP) (Pearl 1988), or the sum-product algorithm.\n",
    "* pair-wise MRF(or CRF)\n",
    "\n",
    "![](./images/ch20/01.png)\n",
    "\n",
    "* For undirected tree\n",
    "  * pick root ( pick graph and dangling ) \n",
    "    * tree-structure, i.e well-defined parent child relationship\n",
    "  * send messages from leaves to the root (collect-evidence phase)\n",
    "    * in HMM, forward\n",
    "  * back down messages to the leaves ( distribute evidence phase )\n",
    "    * in HMM, backward\n",
    "    \n",
    "![](./images/ch20/02.png)\n",
    "\n",
    "* we multiply all the incoming messages from our children, as well as the incoming message from our local evidence, and then normalize.\n",
    "![](./images/ch20/03.png)\n",
    "\n",
    "* Essentially we convert beliefs about xs into beliefs about xt by using the edge potential\n",
    "  * summation over all values of xs\n",
    "![](./images/ch20/04.png)\n",
    "\n",
    "* We continue in this way up the tree until we reach the root. This completes the end of the upwards pass\n",
    "![](./images/ch20/05.png)\n",
    "\n",
    "* We can now pass messages down from the root. For example, consider node s, with parent t\n",
    "![](./images/ch20/06.png)\n",
    "\n",
    "* compute downward message\n",
    "![](./images/ch20/07.png)\n",
    "\n",
    "* In the case of a chain, t only has one child s and one parent p, so the above simplifies to\n",
    "  * no brother and sister\n",
    "  * backward algorithm in HMM\n",
    "  * top-down messages independent of bottom-up messages\n",
    "![](./images/ch20/08.png)"
   ]
  },
  {
   "cell_type": "markdown",
   "metadata": {},
   "source": [
    "### Parallel protocol\n",
    "\n",
    "* serial : good for tree and chain\n",
    "* parallel : good for general graph\n",
    "  * all nodes receive messages from their neighbors in parallel, \n",
    "  * they then updates their belief states, \n",
    "  * finally they send new messages back out to their neighbors\n",
    "  * repeat until convergence\n",
    " \n",
    "![](./images/ch20/09.png)\n",
    "\n",
    "* It converge !!\n",
    "  * At T iterations, evidence propagates to a distance of T away\n",
    "  * After diameter of graph, every node has obtained information from all the other nodes.\n",
    "  * Since the diameter of a tree is at most |V| − 1, the algorithm converges in a linear number of steps.\n"
   ]
  },
  {
   "cell_type": "markdown",
   "metadata": {},
   "source": [
    "### Other BP variants\n",
    "\n",
    "#### Max-product\n",
    "\n",
    "* replace summation with max\n",
    "  * use local MAP\n",
    "  * Viterbi algorithm in HMM\n",
    "  \n",
    "#### Computing posteriors on sets of variables\n",
    "\n",
    "* ex) how to compute the “two-slice” distribution in HMM\n",
    "  * treating xt and xt+1 as a single “mega node”, and then multiplying all the incoming messages as well as all the local factors\n",
    "![](./images/ch20/10.png)\n",
    "![](./images/ch20/11.png)"
   ]
  },
  {
   "cell_type": "markdown",
   "metadata": {},
   "source": [
    "## The variable elimination algorithm\n",
    "\n",
    "* BP : exact inference for marginal dist of tree and chain\n",
    "* VE : general algorithm for any graph\n",
    "\n",
    "\n",
    "* DGM and UGM in student graph\n",
    "![](./images/ch20/12.png)\n",
    "\n",
    "* Joint for DGM\n",
    "\n",
    "![](./images/ch20/13.png)\n",
    "\n",
    "* Joint for UGM\n",
    "  * UGM has more edges (connect nodes sharing a child)\n",
    "  * called moralization\n",
    "![](./images/ch20/14.png)\n",
    "\n",
    "* Query on Job\n",
    "![](./images/ch20/15.png)\n",
    "\n",
    "* Apply VE\n",
    "  * push sum inside products\n",
    "![](./images/ch20/16.png)\n",
    "![](./images/ch20/17.png)\n",
    "\n",
    "* Largest factor from J x L x S\n",
    "\n"
   ]
  },
  {
   "cell_type": "markdown",
   "metadata": {},
   "source": [
    "## Computational complexity of VE\n",
    "\n",
    "* The running time of VE is clearly exponential in the size of the largest factor\n",
    "* Other order product may more larger factor, ex) I x D x L x J x H\n",
    "![](./images/ch20/18.png) \n",
    "\n",
    "* While eliminating a variable\n",
    "  * a temporary edge called \"fill-in\" induced\n",
    "  * this is maximal clique\n",
    "\n",
    "![](./images/ch20/19.png) \n",
    "![](./images/ch20/20.png) \n",
    "\n",
    "* time complexity of VE\n",
    "\n",
    "![](./images/ch20/21.png) \n",
    "\n",
    "* minimal time complexity by finding best elimination order such that\n",
    "  * but finding it, NP-hard\n",
    "  \n",
    "![](./images/ch20/22.png) \n",
    "\n",
    "\n",
    "#### Speicial case : chain and tree\n",
    "\n",
    "* chain : forward-backward is best order\n",
    "* tree : leave to root is best order\n",
    "* For chain and tree, fill-in-edges is not induced\n",
    "  * so |c| = 2, w = 1 \n",
    "  * O(T*K^2) \n",
    "  * This is one reason why Markov chains and Markov trees are so widely used.\n",
    "  \n",
    "### Weakness of VE\n",
    "\n",
    "* slow when factor become large\n",
    "* no reuse of already calculated\n",
    "  * inefficient if we want to compute multiple queries conditioned on the same evidence.\n",
    "  * ex) consider computing all the marginals in a chain-structured graphical model such as an HMM\n",
    "    * T times execution of VE => O( T^2 x K^2 )\n",
    "  * Remember, Foward-Backward algorithm in HHH => O(TK^2) \n",
    "    * construct cache while forwarding\n",
    "    * use cache while backwarding"
   ]
  },
  {
   "cell_type": "code",
   "execution_count": null,
   "metadata": {
    "collapsed": true
   },
   "outputs": [],
   "source": []
  }
 ],
 "metadata": {
  "kernelspec": {
   "display_name": "Python 2",
   "language": "python",
   "name": "python2"
  },
  "language_info": {
   "codemirror_mode": {
    "name": "ipython",
    "version": 2
   },
   "file_extension": ".py",
   "mimetype": "text/x-python",
   "name": "python",
   "nbconvert_exporter": "python",
   "pygments_lexer": "ipython2",
   "version": "2.7.11"
  }
 },
 "nbformat": 4,
 "nbformat_minor": 0
}
