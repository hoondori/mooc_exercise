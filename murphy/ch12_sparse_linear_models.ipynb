{
 "cells": [
  {
   "cell_type": "markdown",
   "metadata": {},
   "source": [
    "# References\n",
    "\n",
    "## Lecture 12. Regularization\n",
    "* 12 of 18 of Caltech's Machine Learning Course - CS 156 by Professor Yaser Abu-Mostafa\n",
    "* https://youtu.be/I-VfYXzC5ro\n",
    "\n",
    "## undergraduate machine learning 21: L1 regularization and the lasso\n",
    "* taught in 2012 at UBC by Nando de Freitas \n",
    "* https://youtu.be/PKXpaLUigA8\n",
    "\n",
    "## undergraduate machine learning 22: Sparse models and variable selection\n",
    "* taught in 2012 at UBC by Nando de Freitas \n",
    "* https://youtu.be/CjYz7z0usMo\n",
    "\n",
    "## Data Science - Part XII - Ridge Regression, LASSO, and Elastic Nets\n",
    "* https://youtu.be/ipb2MhSRGdw\n",
    "\n"
   ]
  },
  {
   "cell_type": "code",
   "execution_count": null,
   "metadata": {
    "collapsed": true
   },
   "outputs": [],
   "source": []
  }
 ],
 "metadata": {
  "kernelspec": {
   "display_name": "Python 2",
   "language": "python",
   "name": "python2"
  },
  "language_info": {
   "codemirror_mode": {
    "name": "ipython",
    "version": 2
   },
   "file_extension": ".py",
   "mimetype": "text/x-python",
   "name": "python",
   "nbconvert_exporter": "python",
   "pygments_lexer": "ipython2",
   "version": "2.7.11"
  }
 },
 "nbformat": 4,
 "nbformat_minor": 0
}
