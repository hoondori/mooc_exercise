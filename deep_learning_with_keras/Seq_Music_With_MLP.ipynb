{
 "cells": [
  {
   "cell_type": "code",
   "execution_count": 7,
   "metadata": {
    "collapsed": false
   },
   "outputs": [
    {
     "name": "stderr",
     "output_type": "stream",
     "text": [
      "/Users/hoondori/pyenv/myenv/lib/python3.6/site-packages/h5py/__init__.py:36: FutureWarning: Conversion of the second argument of issubdtype from `float` to `np.floating` is deprecated. In future, it will be treated as `np.float64 == np.dtype(float).type`.\n",
      "  from ._conv import register_converters as _register_converters\n",
      "Using TensorFlow backend.\n",
      "/Users/hoondori/pyenv/myenv/lib/python3.6/importlib/_bootstrap.py:205: RuntimeWarning: compiletime version 3.5 of module 'tensorflow.python.framework.fast_tensor_util' does not match runtime version 3.6\n",
      "  return f(*args, **kwds)\n"
     ]
    }
   ],
   "source": [
    "# 0. 사용할 패키지 불러오기\n",
    "import keras\n",
    "from keras.models import Sequential\n",
    "from keras.layers import Dense\n",
    "from keras.utils import np_utils\n",
    "import numpy as np\n",
    "\n",
    "# 랜덤시드 고정시키기\n",
    "np.random.seed(5)"
   ]
  },
  {
   "cell_type": "code",
   "execution_count": 15,
   "metadata": {
    "collapsed": true
   },
   "outputs": [],
   "source": [
    "import numpy as np\n",
    "\n",
    "class LossHistory(keras.callbacks.Callback):\n",
    "    def init(self):\n",
    "        self.losses = []\n",
    "        \n",
    "    def on_epoch_end(self, batch, logs={}):\n",
    "        self.losses.append(logs.get('loss'))\n",
    "        \n",
    "def seq2dataset(seq, window_size):\n",
    "    dataset = []\n",
    "    for i in range(len(seq)-window_size):\n",
    "        subset = seq[i:(i+window_size+1)]\n",
    "        dataset.append([code2idx[item] for item in subset])\n",
    "    return np.array(dataset)\n",
    "\n",
    "code2idx = {'c4':0, 'd4':1, 'e4':2, 'f4':3, 'g4':4, 'a4':5, 'b4':6,\n",
    "            'c8':7, 'd8':8, 'e8':9, 'f8':10, 'g8':11, 'a8':12, 'b8':13}\n",
    "\n",
    "idx2code = {0:'c4', 1:'d4', 2:'e4', 3:'f4', 4:'g4', 5:'a4', 6:'b4',\n",
    "            7:'c8', 8:'d8', 9:'e8', 10:'f8', 11:'g8', 12:'a8', 13:'b8'}"
   ]
  },
  {
   "cell_type": "code",
   "execution_count": 10,
   "metadata": {
    "collapsed": false
   },
   "outputs": [
    {
     "name": "stdout",
     "output_type": "stream",
     "text": [
      "(50, 5)\n",
      "[[11  9  2 10  8]\n",
      " [ 9  2 10  8  1]\n",
      " [ 2 10  8  1  7]\n",
      " [10  8  1  7  8]\n",
      " [ 8  1  7  8  9]\n",
      " [ 1  7  8  9 10]\n",
      " [ 7  8  9 10 11]\n",
      " [ 8  9 10 11 11]\n",
      " [ 9 10 11 11  4]\n",
      " [10 11 11  4 11]\n",
      " [11 11  4 11  9]\n",
      " [11  4 11  9  9]\n",
      " [ 4 11  9  9  9]\n",
      " [11  9  9  9 10]\n",
      " [ 9  9  9 10  8]\n",
      " [ 9  9 10  8  1]\n",
      " [ 9 10  8  1  7]\n",
      " [10  8  1  7  9]\n",
      " [ 8  1  7  9 11]\n",
      " [ 1  7  9 11 11]\n",
      " [ 7  9 11 11  9]\n",
      " [ 9 11 11  9  9]\n",
      " [11 11  9  9  2]\n",
      " [11  9  9  2  8]\n",
      " [ 9  9  2  8  8]\n",
      " [ 9  2  8  8  8]\n",
      " [ 2  8  8  8  8]\n",
      " [ 8  8  8  8  8]\n",
      " [ 8  8  8  8  9]\n",
      " [ 8  8  8  9  3]\n",
      " [ 8  8  9  3  9]\n",
      " [ 8  9  3  9  9]\n",
      " [ 9  3  9  9  9]\n",
      " [ 3  9  9  9  9]\n",
      " [ 9  9  9  9  9]\n",
      " [ 9  9  9  9 10]\n",
      " [ 9  9  9 10  4]\n",
      " [ 9  9 10  4 11]\n",
      " [ 9 10  4 11  9]\n",
      " [10  4 11  9  2]\n",
      " [ 4 11  9  2 10]\n",
      " [11  9  2 10  8]\n",
      " [ 9  2 10  8  1]\n",
      " [ 2 10  8  1  7]\n",
      " [10  8  1  7  9]\n",
      " [ 8  1  7  9 11]\n",
      " [ 1  7  9 11 11]\n",
      " [ 7  9 11 11  9]\n",
      " [ 9 11 11  9  9]\n",
      " [11 11  9  9  2]]\n"
     ]
    }
   ],
   "source": [
    "# prepare dataset\n",
    "\n",
    "seq = ['g8', 'e8', 'e4', 'f8', 'd8', 'd4', 'c8', 'd8', 'e8', 'f8', 'g8', 'g8', 'g4',\n",
    "       'g8', 'e8', 'e8', 'e8', 'f8', 'd8', 'd4', 'c8', 'e8', 'g8', 'g8', 'e8', 'e8', 'e4',\n",
    "       'd8', 'd8', 'd8', 'd8', 'd8', 'e8', 'f4', 'e8', 'e8', 'e8', 'e8', 'e8', 'f8', 'g4',\n",
    "       'g8', 'e8', 'e4', 'f8', 'd8', 'd4', 'c8', 'e8', 'g8', 'g8', 'e8', 'e8', 'e4']\n",
    "\n",
    "dataset = seq2dataset(seq, window_size = 4)\n",
    "\n",
    "print(dataset.shape)\n",
    "print(dataset)"
   ]
  },
  {
   "cell_type": "code",
   "execution_count": 14,
   "metadata": {
    "collapsed": false
   },
   "outputs": [
    {
     "name": "stdout",
     "output_type": "stream",
     "text": [
      "one hot encoding vector size is  12\n"
     ]
    }
   ],
   "source": [
    "#### prepare train & test set\n",
    "\n",
    "x_train = dataset[:, 0:4]\n",
    "y_train = dataset[:,4]\n",
    "\n",
    "# normalization\n",
    "max_idx_value = 13\n",
    "x_train = x_train / float(max_idx_value)\n",
    "\n",
    "# one-hot encoding\n",
    "y_train = np_utils.to_categorical(y_train)\n",
    "one_hot_vec_size = y_train.shape[1]\n",
    "\n",
    "print(\"one hot encoding vector size is \", one_hot_vec_size)"
   ]
  },
  {
   "cell_type": "code",
   "execution_count": 16,
   "metadata": {
    "collapsed": false
   },
   "outputs": [
    {
     "name": "stdout",
     "output_type": "stream",
     "text": [
      "Epoch 1/20\n",
      " - 0s - loss: 2.3782 - acc: 0.3400\n",
      "Epoch 2/20\n",
      " - 0s - loss: 2.2514 - acc: 0.3400\n",
      "Epoch 3/20\n",
      " - 0s - loss: 2.1586 - acc: 0.3400\n",
      "Epoch 4/20\n",
      " - 0s - loss: 2.0689 - acc: 0.3400\n",
      "Epoch 5/20\n",
      " - 0s - loss: 2.0047 - acc: 0.3400\n",
      "Epoch 6/20\n",
      " - 0s - loss: 1.9741 - acc: 0.3400\n",
      "Epoch 7/20\n",
      " - 0s - loss: 1.9482 - acc: 0.3400\n",
      "Epoch 8/20\n",
      " - 0s - loss: 1.9214 - acc: 0.3400\n",
      "Epoch 9/20\n",
      " - 0s - loss: 1.8992 - acc: 0.3400\n",
      "Epoch 10/20\n",
      " - 0s - loss: 1.8841 - acc: 0.3400\n",
      "Epoch 11/20\n",
      " - 0s - loss: 1.8718 - acc: 0.3400\n",
      "Epoch 12/20\n",
      " - 0s - loss: 1.8530 - acc: 0.3400\n",
      "Epoch 13/20\n",
      " - 0s - loss: 1.8423 - acc: 0.3400\n",
      "Epoch 14/20\n",
      " - 0s - loss: 1.8285 - acc: 0.3400\n",
      "Epoch 15/20\n",
      " - 0s - loss: 1.8142 - acc: 0.3400\n",
      "Epoch 16/20\n",
      " - 0s - loss: 1.8057 - acc: 0.3400\n",
      "Epoch 17/20\n",
      " - 0s - loss: 1.7936 - acc: 0.3400\n",
      "Epoch 18/20\n",
      " - 0s - loss: 1.7814 - acc: 0.3400\n",
      "Epoch 19/20\n",
      " - 0s - loss: 1.7753 - acc: 0.3400\n",
      "Epoch 20/20\n",
      " - 0s - loss: 1.7630 - acc: 0.3400\n"
     ]
    },
    {
     "data": {
      "text/plain": [
       "<keras.callbacks.History at 0x11cd6a6d8>"
      ]
     },
     "execution_count": 16,
     "metadata": {},
     "output_type": "execute_result"
    }
   ],
   "source": [
    "# Train by MLP\n",
    "\n",
    "model = Sequential()\n",
    "model.add(Dense(128, input_dim=4, activation='relu'))\n",
    "model.add(Dense(128, activation='relu'))\n",
    "model.add(Dense(one_hot_vec_size, activation='softmax'))\n",
    "model.compile(loss='categorical_crossentropy', optimizer='adam', metrics=['accuracy'])\n",
    "history = LossHistory()\n",
    "history.init()\n",
    "model.fit(x_train,y_train, epochs=20, batch_size=10, verbose=2, callbacks=[history])"
   ]
  },
  {
   "cell_type": "code",
   "execution_count": 17,
   "metadata": {
    "collapsed": false
   },
   "outputs": [
    {
     "data": {
      "image/png": "[encoded data removed]",
      "text/plain": [
       "<matplotlib.figure.Figure at 0x11ccabd30>"
      ]
     },
     "metadata": {},
     "output_type": "display_data"
    }
   ],
   "source": [
    "# visualize train process\n",
    "%matplotlib inline\n",
    "import matplotlib.pyplot as plt\n",
    "\n",
    "plt.plot(history.losses)\n",
    "plt.ylabel('loss')\n",
    "plt.xlabel('epoch')\n",
    "plt.legend(['train'], loc='upper left')\n",
    "plt.show()"
   ]
  },
  {
   "cell_type": "code",
   "execution_count": 19,
   "metadata": {
    "collapsed": false
   },
   "outputs": [
    {
     "name": "stdout",
     "output_type": "stream",
     "text": [
      "one step prediction :  ['g8', 'e8', 'e4', 'f8', 'e8', 'e8', 'e8', 'e8', 'e8', 'e8', 'e8', 'e8', 'e8', 'e8', 'e8', 'e8', 'e8', 'e8', 'e8', 'e8', 'e8', 'e8', 'e8', 'e8', 'e8', 'e8', 'e8', 'e8', 'e8', 'e8', 'e8', 'e8', 'e8', 'e8', 'e8', 'e8', 'e8', 'e8', 'e8', 'e8', 'e8', 'e8', 'e8', 'e8', 'e8', 'e8', 'e8', 'e8', 'e8', 'e8', 'e8', 'e8', 'e8', 'e8']\n"
     ]
    }
   ],
   "source": [
    "# one-step predict with MLP model\n",
    "\n",
    "pred_count = 50 \n",
    "seq_out = ['g8', 'e8', 'e4', 'f8'] # first 4 elems\n",
    "pred_out = model.predict(x_train)\n",
    "for i in range(pred_count):\n",
    "    idx = np.argmax(pred_out[i])\n",
    "    seq_out.append(idx2code[idx])\n",
    "print(\"one step prediction : \", seq_out)"
   ]
  },
  {
   "cell_type": "code",
   "execution_count": 20,
   "metadata": {
    "collapsed": false
   },
   "outputs": [
    {
     "name": "stdout",
     "output_type": "stream",
     "text": [
      "full song prediction :  ['g8', 'e8', 'e4', 'f8', 'e8', 'e8', 'e8', 'e8', 'e8', 'e8', 'e8', 'e8', 'e8', 'e8', 'e8', 'e8', 'e8', 'e8', 'e8', 'e8', 'e8', 'e8', 'e8', 'e8', 'e8', 'e8', 'e8', 'e8', 'e8', 'e8', 'e8', 'e8', 'e8', 'e8', 'e8', 'e8', 'e8', 'e8', 'e8', 'e8', 'e8', 'e8', 'e8', 'e8', 'e8', 'e8', 'e8', 'e8', 'e8', 'e8', 'e8', 'e8', 'e8', 'e8']\n"
     ]
    }
   ],
   "source": [
    "# full-song predict with MLP model\n",
    "\n",
    "seq_in = ['g8', 'e8', 'e4', 'f8'] # first 4 elems\n",
    "seq_out = seq_in\n",
    "seq_in = [code2idx[it] / float(max_idx_value) for it in seq_in]\n",
    "\n",
    "for i in range(pred_count):\n",
    "    sample_in = np.array(seq_in)\n",
    "    sample_in = np.reshape(sample_in, (1,4)) # batch_size, feature\n",
    "    pred_out = model.predict(sample_in)\n",
    "    idx = np.argmax(pred_out)\n",
    "    seq_out.append(idx2code[idx])\n",
    "    seq_in.append(idx/float(max_idx_value))\n",
    "    seq_in.pop(0)\n",
    "print(\"full song prediction : \", seq_out)"
   ]
  },
  {
   "cell_type": "code",
   "execution_count": null,
   "metadata": {
    "collapsed": true
   },
   "outputs": [],
   "source": []
  }
 ],
 "metadata": {
  "kernelspec": {
   "display_name": "Python 3",
   "language": "python",
   "name": "python3"
  },
  "language_info": {
   "codemirror_mode": {
    "name": "ipython",
    "version": 3
   },
   "file_extension": ".py",
   "mimetype": "text/x-python",
   "name": "python",
   "nbconvert_exporter": "python",
   "pygments_lexer": "ipython3",
   "version": "3.6.2"
  }
 },
 "nbformat": 4,
 "nbformat_minor": 0
}
