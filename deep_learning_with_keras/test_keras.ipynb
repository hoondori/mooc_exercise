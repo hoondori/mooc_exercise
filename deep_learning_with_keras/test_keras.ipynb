{
 "cells": [
  {
   "cell_type": "code",
   "execution_count": 1,
   "metadata": {
    "collapsed": false
   },
   "outputs": [
    {
     "name": "stderr",
     "output_type": "stream",
     "text": [
      "/Users/hoondori/pyenv/myenv/lib/python3.6/site-packages/h5py/__init__.py:36: FutureWarning: Conversion of the second argument of issubdtype from `float` to `np.floating` is deprecated. In future, it will be treated as `np.float64 == np.dtype(float).type`.\n",
      "  from ._conv import register_converters as _register_converters\n",
      "/Users/hoondori/pyenv/myenv/lib/python3.6/importlib/_bootstrap.py:205: RuntimeWarning: compiletime version 3.5 of module 'tensorflow.python.framework.fast_tensor_util' does not match runtime version 3.6\n",
      "  return f(*args, **kwds)\n"
     ]
    },
    {
     "name": "stdout",
     "output_type": "stream",
     "text": [
      "scipy 1.0.0\n",
      "numpy 1.14.0\n",
      "matplotlib 2.1.1\n",
      "pandas 0.22.0\n",
      "sklearn 0.19.1\n",
      "pydot 1.2.4\n",
      "h5py 2.7.1\n",
      "theano 1.0.1\n",
      "tensorflow 1.4.1\n",
      "keras 2.1.2\n"
     ]
    },
    {
     "name": "stderr",
     "output_type": "stream",
     "text": [
      "Using TensorFlow backend.\n"
     ]
    }
   ],
   "source": [
    "import scipy\n",
    "import numpy\n",
    "import matplotlib\n",
    "import pandas\n",
    "import sklearn\n",
    "import pydot\n",
    "import h5py\n",
    "\n",
    "import theano\n",
    "import tensorflow\n",
    "import keras\n",
    "\n",
    "print('scipy ' + scipy.__version__)\n",
    "print('numpy ' + numpy.__version__)\n",
    "print('matplotlib ' + matplotlib.__version__)\n",
    "print('pandas ' + pandas.__version__)\n",
    "print('sklearn ' + sklearn.__version__)\n",
    "print('pydot ' + pydot.__version__)\n",
    "print('h5py ' + h5py.__version__)\n",
    "\n",
    "print('theano ' + theano.__version__)\n",
    "print('tensorflow ' + tensorflow.__version__)\n",
    "print('keras ' + keras.__version__)"
   ]
  },
  {
   "cell_type": "markdown",
   "metadata": {
    "collapsed": true
   },
   "source": [
    "# MNIST by keras"
   ]
  },
  {
   "cell_type": "code",
   "execution_count": 2,
   "metadata": {
    "collapsed": false
   },
   "outputs": [
    {
     "name": "stdout",
     "output_type": "stream",
     "text": [
      "Train on 50000 samples, validate on 10000 samples\n",
      "Epoch 1/1000\n",
      "50000/50000 [==============================] - 5s 98us/step - loss: 0.7688 - acc: 0.8020 - val_loss: 0.3813 - val_acc: 0.9003\n",
      "Epoch 2/1000\n",
      "50000/50000 [==============================] - 5s 105us/step - loss: 0.3742 - acc: 0.8963 - val_loss: 0.3098 - val_acc: 0.9135\n",
      "Epoch 3/1000\n",
      "50000/50000 [==============================] - 5s 97us/step - loss: 0.3198 - acc: 0.9102 - val_loss: 0.2803 - val_acc: 0.9221\n",
      "Epoch 4/1000\n",
      "50000/50000 [==============================] - 5s 101us/step - loss: 0.2893 - acc: 0.9192 - val_loss: 0.2575 - val_acc: 0.9285\n",
      "Epoch 5/1000\n",
      "50000/50000 [==============================] - 5s 98us/step - loss: 0.2670 - acc: 0.9251 - val_loss: 0.2400 - val_acc: 0.9325\n",
      "Epoch 6/1000\n",
      "50000/50000 [==============================] - 5s 92us/step - loss: 0.2494 - acc: 0.9299 - val_loss: 0.2271 - val_acc: 0.9382\n",
      "Epoch 7/1000\n",
      "50000/50000 [==============================] - 5s 98us/step - loss: 0.2343 - acc: 0.9345 - val_loss: 0.2182 - val_acc: 0.9407\n",
      "Epoch 8/1000\n",
      "50000/50000 [==============================] - 5s 95us/step - loss: 0.2214 - acc: 0.9378 - val_loss: 0.2053 - val_acc: 0.9437\n",
      "Epoch 9/1000\n",
      "50000/50000 [==============================] - 5s 99us/step - loss: 0.2098 - acc: 0.9411 - val_loss: 0.1953 - val_acc: 0.9472\n",
      "Epoch 10/1000\n",
      "50000/50000 [==============================] - 5s 97us/step - loss: 0.1993 - acc: 0.9437 - val_loss: 0.1886 - val_acc: 0.9503\n",
      "Epoch 11/1000\n",
      "50000/50000 [==============================] - 5s 96us/step - loss: 0.1900 - acc: 0.9461 - val_loss: 0.1825 - val_acc: 0.9522\n",
      "Epoch 12/1000\n",
      "50000/50000 [==============================] - 5s 97us/step - loss: 0.1816 - acc: 0.9484 - val_loss: 0.1753 - val_acc: 0.9534\n",
      "Epoch 13/1000\n",
      "50000/50000 [==============================] - 5s 104us/step - loss: 0.1738 - acc: 0.9507 - val_loss: 0.1707 - val_acc: 0.9555\n",
      "Epoch 14/1000\n",
      "50000/50000 [==============================] - 5s 106us/step - loss: 0.1668 - acc: 0.9522 - val_loss: 0.1640 - val_acc: 0.9564\n",
      "Epoch 15/1000\n",
      "50000/50000 [==============================] - 5s 98us/step - loss: 0.1604 - acc: 0.9547 - val_loss: 0.1584 - val_acc: 0.9571\n",
      "Epoch 16/1000\n",
      "50000/50000 [==============================] - 5s 100us/step - loss: 0.1542 - acc: 0.9563 - val_loss: 0.1543 - val_acc: 0.9589\n",
      "Epoch 17/1000\n",
      "50000/50000 [==============================] - 6s 119us/step - loss: 0.1487 - acc: 0.9585 - val_loss: 0.1505 - val_acc: 0.9581\n",
      "Epoch 18/1000\n",
      "50000/50000 [==============================] - 5s 93us/step - loss: 0.1435 - acc: 0.9596 - val_loss: 0.1480 - val_acc: 0.9599\n",
      "Epoch 19/1000\n",
      "50000/50000 [==============================] - 5s 92us/step - loss: 0.1384 - acc: 0.9610 - val_loss: 0.1459 - val_acc: 0.9600\n",
      "Epoch 20/1000\n",
      "50000/50000 [==============================] - 5s 92us/step - loss: 0.1340 - acc: 0.9622 - val_loss: 0.1411 - val_acc: 0.9620\n",
      "Epoch 21/1000\n",
      "50000/50000 [==============================] - 5s 92us/step - loss: 0.1297 - acc: 0.9632 - val_loss: 0.1388 - val_acc: 0.9617\n",
      "Epoch 22/1000\n",
      "50000/50000 [==============================] - 5s 94us/step - loss: 0.1258 - acc: 0.9651 - val_loss: 0.1353 - val_acc: 0.9632\n",
      "Epoch 23/1000\n",
      "50000/50000 [==============================] - 5s 104us/step - loss: 0.1220 - acc: 0.9658 - val_loss: 0.1310 - val_acc: 0.9654\n",
      "Epoch 24/1000\n",
      "50000/50000 [==============================] - 5s 96us/step - loss: 0.1186 - acc: 0.9667 - val_loss: 0.1290 - val_acc: 0.9657\n",
      "Epoch 25/1000\n",
      "50000/50000 [==============================] - 5s 93us/step - loss: 0.1152 - acc: 0.9673 - val_loss: 0.1269 - val_acc: 0.9656\n",
      "Epoch 26/1000\n",
      "50000/50000 [==============================] - 6s 111us/step - loss: 0.1122 - acc: 0.9687 - val_loss: 0.1254 - val_acc: 0.9659\n",
      "Epoch 27/1000\n",
      "50000/50000 [==============================] - 5s 93us/step - loss: 0.1094 - acc: 0.9696 - val_loss: 0.1232 - val_acc: 0.9659\n",
      "Epoch 28/1000\n",
      "50000/50000 [==============================] - 5s 92us/step - loss: 0.1064 - acc: 0.9708 - val_loss: 0.1217 - val_acc: 0.9673\n",
      "Epoch 29/1000\n",
      "50000/50000 [==============================] - 5s 94us/step - loss: 0.1037 - acc: 0.9715 - val_loss: 0.1206 - val_acc: 0.9672\n",
      "Epoch 30/1000\n",
      "50000/50000 [==============================] - 6s 121us/step - loss: 0.1014 - acc: 0.9722 - val_loss: 0.1188 - val_acc: 0.9677\n",
      "Epoch 31/1000\n",
      "50000/50000 [==============================] - 5s 99us/step - loss: 0.0990 - acc: 0.9726 - val_loss: 0.1169 - val_acc: 0.9680\n",
      "Epoch 32/1000\n",
      "50000/50000 [==============================] - 5s 109us/step - loss: 0.0965 - acc: 0.9737 - val_loss: 0.1170 - val_acc: 0.9676\n",
      "10000/10000 [==============================] - 1s 59us/step\n",
      "loss_and_metrics : [0.11819624220617116, 0.9667]\n"
     ]
    }
   ],
   "source": [
    "from keras.utils import np_utils\n",
    "from keras.datasets import mnist\n",
    "from keras.models import Sequential\n",
    "from keras.layers import Dense, Activation\n",
    "\n",
    "(X_train, Y_train), (X_test, Y_test) = mnist.load_data()\n",
    "X_val = X_train[50000:]\n",
    "Y_val = Y_train[50000:]\n",
    "X_train = X_train[:50000]\n",
    "Y_train = Y_train[:50000]\n",
    "\n",
    "X_train = X_train.reshape(50000,784).astype('float32') / 255.0\n",
    "X_val = X_val.reshape(10000,784).astype('float32') / 255.0\n",
    "X_test = X_test.reshape(10000,784).astype('float32') / 255.0\n",
    "\n",
    "Y_train = np_utils.to_categorical(Y_train)\n",
    "Y_val = np_utils.to_categorical(Y_val)\n",
    "Y_test = np_utils.to_categorical(Y_test)\n",
    "\n",
    "model = Sequential()\n",
    "model.add(Dense(units=64, input_dim=28*28, activation='relu'))\n",
    "model.add(Dense(units=10, activation='softmax'))\n",
    "model.compile(loss='categorical_crossentropy', optimizer='sgd', metrics=['accuracy'])\n",
    "\n",
    "# 텐서보드와 연동 콜백\n",
    "tb_hist = keras.callbacks.TensorBoard(log_dir='./graph', histogram_freq=0, write_graph=True,\n",
    "                                     write_images=True)\n",
    "\n",
    "# 조기 종료 콜백\n",
    "from keras.callbacks import EarlyStopping\n",
    "early_stopping = EarlyStopping(patience = 20)\n",
    "\n",
    "hist = model.fit(X_train, Y_train, epochs=1000, batch_size=32,\n",
    "                 validation_data=(X_val, Y_val), callbacks=[tb_hist,early_stopping])\n",
    "\n",
    "loss_and_metrics = model.evaluate(X_test, Y_test, batch_size=32)\n",
    "\n",
    "print('loss_and_metrics : ' + str(loss_and_metrics))"
   ]
  },
  {
   "cell_type": "code",
   "execution_count": 4,
   "metadata": {
    "collapsed": false
   },
   "outputs": [
    {
     "data": {
      "image/png": "[encoded data removed]",
      "text/plain": [
       "<matplotlib.figure.Figure at 0x12f9151d0>"
      ]
     },
     "metadata": {},
     "output_type": "display_data"
    }
   ],
   "source": [
    "import matplotlib.pyplot as plt\n",
    "\n",
    "fig, loss_ax = plt.subplots()\n",
    "acc_ax = loss_ax.twinx()\n",
    "\n",
    "loss_ax.plot(hist.history['loss'],'y', label='train_loss')\n",
    "loss_ax.plot(hist.history['val_loss'],'r', label='val_loss')\n",
    "acc_ax.plot(hist.history['acc'],'b', label='train_acc')\n",
    "acc_ax.plot(hist.history['val_acc'],'g', label='val_acc')\n",
    "\n",
    "loss_ax.set_xlabel('epoch')\n",
    "loss_ax.set_ylabel('loss')\n",
    "acc_ax.set_ylabel('accuracy')\n",
    "\n",
    "loss_ax.legend(loc='upper left')\n",
    "acc_ax.legend(loc='lower left')\n",
    "\n",
    "plt.show()"
   ]
  },
  {
   "cell_type": "code",
   "execution_count": 5,
   "metadata": {
    "collapsed": false
   },
   "outputs": [
    {
     "data": {
      "image/svg+xml": [
       "<svg height=\"215pt\" viewBox=\"0.00 0.00 314.56 215.00\" width=\"315pt\" xmlns=\"http://www.w3.org/2000/svg\" xmlns:xlink=\"http://www.w3.org/1999/xlink\">\n",
       "<g class=\"graph\" id=\"graph0\" transform=\"scale(1 1) rotate(0) translate(4 211)\">\n",
       "<title>G</title>\n",
       "<polygon fill=\"#ffffff\" points=\"-4,4 -4,-211 310.5557,-211 310.5557,4 -4,4\" stroke=\"transparent\"/>\n",
       "<!-- 4800219232 -->\n",
       "<g class=\"node\" id=\"node1\">\n",
       "<title>4800219232</title>\n",
       "<polygon fill=\"none\" points=\"0,-162.5 0,-206.5 306.5557,-206.5 306.5557,-162.5 0,-162.5\" stroke=\"#000000\"/>\n",
       "<text fill=\"#000000\" font-family=\"Times,serif\" font-size=\"14.00\" text-anchor=\"middle\" x=\"83.6191\" y=\"-180.3\">dense_1_input: InputLayer</text>\n",
       "<polyline fill=\"none\" points=\"167.2383,-162.5 167.2383,-206.5 \" stroke=\"#000000\"/>\n",
       "<text fill=\"#000000\" font-family=\"Times,serif\" font-size=\"14.00\" text-anchor=\"middle\" x=\"195.0728\" y=\"-191.3\">input:</text>\n",
       "<polyline fill=\"none\" points=\"167.2383,-184.5 222.9072,-184.5 \" stroke=\"#000000\"/>\n",
       "<text fill=\"#000000\" font-family=\"Times,serif\" font-size=\"14.00\" text-anchor=\"middle\" x=\"195.0728\" y=\"-169.3\">output:</text>\n",
       "<polyline fill=\"none\" points=\"222.9072,-162.5 222.9072,-206.5 \" stroke=\"#000000\"/>\n",
       "<text fill=\"#000000\" font-family=\"Times,serif\" font-size=\"14.00\" text-anchor=\"middle\" x=\"264.7314\" y=\"-191.3\">(None, 784)</text>\n",
       "<polyline fill=\"none\" points=\"222.9072,-184.5 306.5557,-184.5 \" stroke=\"#000000\"/>\n",
       "<text fill=\"#000000\" font-family=\"Times,serif\" font-size=\"14.00\" text-anchor=\"middle\" x=\"264.7314\" y=\"-169.3\">(None, 784)</text>\n",
       "</g>\n",
       "<!-- 4600686856 -->\n",
       "<g class=\"node\" id=\"node2\">\n",
       "<title>4600686856</title>\n",
       "<polygon fill=\"none\" points=\"31.4932,-81.5 31.4932,-125.5 275.0625,-125.5 275.0625,-81.5 31.4932,-81.5\" stroke=\"#000000\"/>\n",
       "<text fill=\"#000000\" font-family=\"Times,serif\" font-size=\"14.00\" text-anchor=\"middle\" x=\"83.6191\" y=\"-99.3\">dense_1: Dense</text>\n",
       "<polyline fill=\"none\" points=\"135.7451,-81.5 135.7451,-125.5 \" stroke=\"#000000\"/>\n",
       "<text fill=\"#000000\" font-family=\"Times,serif\" font-size=\"14.00\" text-anchor=\"middle\" x=\"163.5796\" y=\"-110.3\">input:</text>\n",
       "<polyline fill=\"none\" points=\"135.7451,-103.5 191.4141,-103.5 \" stroke=\"#000000\"/>\n",
       "<text fill=\"#000000\" font-family=\"Times,serif\" font-size=\"14.00\" text-anchor=\"middle\" x=\"163.5796\" y=\"-88.3\">output:</text>\n",
       "<polyline fill=\"none\" points=\"191.4141,-81.5 191.4141,-125.5 \" stroke=\"#000000\"/>\n",
       "<text fill=\"#000000\" font-family=\"Times,serif\" font-size=\"14.00\" text-anchor=\"middle\" x=\"233.2383\" y=\"-110.3\">(None, 784)</text>\n",
       "<polyline fill=\"none\" points=\"191.4141,-103.5 275.0625,-103.5 \" stroke=\"#000000\"/>\n",
       "<text fill=\"#000000\" font-family=\"Times,serif\" font-size=\"14.00\" text-anchor=\"middle\" x=\"233.2383\" y=\"-88.3\">(None, 64)</text>\n",
       "</g>\n",
       "<!-- 4800219232&#45;&gt;4600686856 -->\n",
       "<g class=\"edge\" id=\"edge1\">\n",
       "<title>4800219232-&gt;4600686856</title>\n",
       "<path d=\"M153.2778,-162.3664C153.2778,-154.1516 153.2778,-144.6579 153.2778,-135.7252\" fill=\"none\" stroke=\"#000000\"/>\n",
       "<polygon fill=\"#000000\" points=\"156.7779,-135.6068 153.2778,-125.6068 149.7779,-135.6069 156.7779,-135.6068\" stroke=\"#000000\"/>\n",
       "</g>\n",
       "<!-- 4800218616 -->\n",
       "<g class=\"node\" id=\"node3\">\n",
       "<title>4800218616</title>\n",
       "<polygon fill=\"none\" points=\"34.9932,-.5 34.9932,-44.5 271.5625,-44.5 271.5625,-.5 34.9932,-.5\" stroke=\"#000000\"/>\n",
       "<text fill=\"#000000\" font-family=\"Times,serif\" font-size=\"14.00\" text-anchor=\"middle\" x=\"87.1191\" y=\"-18.3\">dense_2: Dense</text>\n",
       "<polyline fill=\"none\" points=\"139.2451,-.5 139.2451,-44.5 \" stroke=\"#000000\"/>\n",
       "<text fill=\"#000000\" font-family=\"Times,serif\" font-size=\"14.00\" text-anchor=\"middle\" x=\"167.0796\" y=\"-29.3\">input:</text>\n",
       "<polyline fill=\"none\" points=\"139.2451,-22.5 194.9141,-22.5 \" stroke=\"#000000\"/>\n",
       "<text fill=\"#000000\" font-family=\"Times,serif\" font-size=\"14.00\" text-anchor=\"middle\" x=\"167.0796\" y=\"-7.3\">output:</text>\n",
       "<polyline fill=\"none\" points=\"194.9141,-.5 194.9141,-44.5 \" stroke=\"#000000\"/>\n",
       "<text fill=\"#000000\" font-family=\"Times,serif\" font-size=\"14.00\" text-anchor=\"middle\" x=\"233.2383\" y=\"-29.3\">(None, 64)</text>\n",
       "<polyline fill=\"none\" points=\"194.9141,-22.5 271.5625,-22.5 \" stroke=\"#000000\"/>\n",
       "<text fill=\"#000000\" font-family=\"Times,serif\" font-size=\"14.00\" text-anchor=\"middle\" x=\"233.2383\" y=\"-7.3\">(None, 10)</text>\n",
       "</g>\n",
       "<!-- 4600686856&#45;&gt;4800218616 -->\n",
       "<g class=\"edge\" id=\"edge2\">\n",
       "<title>4600686856-&gt;4800218616</title>\n",
       "<path d=\"M153.2778,-81.3664C153.2778,-73.1516 153.2778,-63.6579 153.2778,-54.7252\" fill=\"none\" stroke=\"#000000\"/>\n",
       "<polygon fill=\"#000000\" points=\"156.7779,-54.6068 153.2778,-44.6068 149.7779,-54.6069 156.7779,-54.6068\" stroke=\"#000000\"/>\n",
       "</g>\n",
       "</g>\n",
       "</svg>"
      ],
      "text/plain": [
       "<IPython.core.display.SVG object>"
      ]
     },
     "execution_count": 5,
     "metadata": {},
     "output_type": "execute_result"
    }
   ],
   "source": [
    "from IPython.display import SVG\n",
    "from keras.utils.vis_utils import model_to_dot\n",
    "\n",
    "%matplotlib inline\n",
    "\n",
    "SVG(model_to_dot(model,show_shapes=True).create(prog='dot', format='svg'))"
   ]
  },
  {
   "cell_type": "code",
   "execution_count": 6,
   "metadata": {
    "collapsed": true
   },
   "outputs": [],
   "source": [
    "from keras.utils import plot_model\n",
    "plot_model(model, to_file='model.png')"
   ]
  },
  {
   "cell_type": "code",
   "execution_count": 7,
   "metadata": {
    "collapsed": true
   },
   "outputs": [],
   "source": [
    "# 딥러닝 모델 저장 기능 확인\n",
    "\n",
    "from keras.models import load_model\n",
    "model.save('mnist_mlp_model.h5')\n",
    "model = load_model('mnist_mlp_model.h5')"
   ]
  },
  {
   "cell_type": "code",
   "execution_count": 13,
   "metadata": {
    "collapsed": false
   },
   "outputs": [
    {
     "name": "stdout",
     "output_type": "stream",
     "text": [
      "True : 1,Predict :1\n",
      "True : 5,Predict :5\n",
      "True : 2,Predict :2\n",
      "True : 1,Predict :1\n",
      "True : 5,Predict :5\n"
     ]
    }
   ],
   "source": [
    "# prediction\n",
    "\n",
    "import numpy as np \n",
    "\n",
    "xhat_idx = np.random.choice(X_test.shape[0], 5)\n",
    "xhat = X_test[xhat_idx]\n",
    "yhat = model.predict_classes(xhat)\n",
    "\n",
    "for i in range(5):\n",
    "    print('True : ' + str(np.argmax(Y_test[xhat_idx[i]])) + ',Predict :' + str(yhat[i]))\n"
   ]
  },
  {
   "cell_type": "code",
   "execution_count": null,
   "metadata": {
    "collapsed": true
   },
   "outputs": [],
   "source": []
  }
 ],
 "metadata": {
  "kernelspec": {
   "display_name": "Python 3",
   "language": "python",
   "name": "python3"
  },
  "language_info": {
   "codemirror_mode": {
    "name": "ipython",
    "version": 3
   },
   "file_extension": ".py",
   "mimetype": "text/x-python",
   "name": "python",
   "nbconvert_exporter": "python",
   "pygments_lexer": "ipython3",
   "version": "3.6.2"
  }
 },
 "nbformat": 4,
 "nbformat_minor": 0
}
