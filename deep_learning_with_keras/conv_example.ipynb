{
 "cells": [
  {
   "cell_type": "code",
   "execution_count": 2,
   "metadata": {
    "collapsed": false
   },
   "outputs": [
    {
     "name": "stderr",
     "output_type": "stream",
     "text": [
      "/Users/hoondori/pyenv/myenv/lib/python3.6/site-packages/h5py/__init__.py:36: FutureWarning: Conversion of the second argument of issubdtype from `float` to `np.floating` is deprecated. In future, it will be treated as `np.float64 == np.dtype(float).type`.\n",
      "  from ._conv import register_converters as _register_converters\n",
      "Using TensorFlow backend.\n",
      "/Users/hoondori/pyenv/myenv/lib/python3.6/importlib/_bootstrap.py:205: RuntimeWarning: compiletime version 3.5 of module 'tensorflow.python.framework.fast_tensor_util' does not match runtime version 3.6\n",
      "  return f(*args, **kwds)\n"
     ]
    }
   ],
   "source": [
    "import numpy as np\n",
    "from keras.models import Sequential\n",
    "from keras.layers import Dense\n",
    "from keras.layers import Flatten\n",
    "from keras.layers.convolutional import Conv2D\n",
    "from keras.layers.convolutional import MaxPooling2D\n",
    "from keras.preprocessing.image import ImageDataGenerator\n",
    "\n",
    "# 랜덤시드 고정시키기\n",
    "np.random.seed(3)"
   ]
  },
  {
   "cell_type": "code",
   "execution_count": 5,
   "metadata": {
    "collapsed": false
   },
   "outputs": [
    {
     "data": {
      "image/svg+xml": [
       "<svg height=\"539pt\" viewBox=\"0.00 0.00 393.93 539.00\" width=\"394pt\" xmlns=\"http://www.w3.org/2000/svg\" xmlns:xlink=\"http://www.w3.org/1999/xlink\">\n",
       "<g class=\"graph\" id=\"graph0\" transform=\"scale(1 1) rotate(0) translate(4 535)\">\n",
       "<title>G</title>\n",
       "<polygon fill=\"#ffffff\" points=\"-4,4 -4,-535 389.9277,-535 389.9277,4 -4,4\" stroke=\"transparent\"/>\n",
       "<!-- 4796627264 -->\n",
       "<g class=\"node\" id=\"node1\">\n",
       "<title>4796627264</title>\n",
       "<polygon fill=\"none\" points=\"21.0171,-486.5 21.0171,-530.5 364.9106,-530.5 364.9106,-486.5 21.0171,-486.5\" stroke=\"#000000\"/>\n",
       "<text fill=\"#000000\" font-family=\"Times,serif\" font-size=\"14.00\" text-anchor=\"middle\" x=\"109.3052\" y=\"-504.3\">conv2d_3_input: InputLayer</text>\n",
       "<polyline fill=\"none\" points=\"197.5933,-486.5 197.5933,-530.5 \" stroke=\"#000000\"/>\n",
       "<text fill=\"#000000\" font-family=\"Times,serif\" font-size=\"14.00\" text-anchor=\"middle\" x=\"225.4277\" y=\"-515.3\">input:</text>\n",
       "<polyline fill=\"none\" points=\"197.5933,-508.5 253.2622,-508.5 \" stroke=\"#000000\"/>\n",
       "<text fill=\"#000000\" font-family=\"Times,serif\" font-size=\"14.00\" text-anchor=\"middle\" x=\"225.4277\" y=\"-493.3\">output:</text>\n",
       "<polyline fill=\"none\" points=\"253.2622,-486.5 253.2622,-530.5 \" stroke=\"#000000\"/>\n",
       "<text fill=\"#000000\" font-family=\"Times,serif\" font-size=\"14.00\" text-anchor=\"middle\" x=\"309.0864\" y=\"-515.3\">(None, 24, 24, 3)</text>\n",
       "<polyline fill=\"none\" points=\"253.2622,-508.5 364.9106,-508.5 \" stroke=\"#000000\"/>\n",
       "<text fill=\"#000000\" font-family=\"Times,serif\" font-size=\"14.00\" text-anchor=\"middle\" x=\"309.0864\" y=\"-493.3\">(None, 24, 24, 3)</text>\n",
       "</g>\n",
       "<!-- 4796628384 -->\n",
       "<g class=\"node\" id=\"node2\">\n",
       "<title>4796628384</title>\n",
       "<polygon fill=\"none\" points=\"42.7793,-405.5 42.7793,-449.5 343.1484,-449.5 343.1484,-405.5 42.7793,-405.5\" stroke=\"#000000\"/>\n",
       "<text fill=\"#000000\" font-family=\"Times,serif\" font-size=\"14.00\" text-anchor=\"middle\" x=\"105.8052\" y=\"-423.3\">conv2d_3: Conv2D</text>\n",
       "<polyline fill=\"none\" points=\"168.8311,-405.5 168.8311,-449.5 \" stroke=\"#000000\"/>\n",
       "<text fill=\"#000000\" font-family=\"Times,serif\" font-size=\"14.00\" text-anchor=\"middle\" x=\"196.6655\" y=\"-434.3\">input:</text>\n",
       "<polyline fill=\"none\" points=\"168.8311,-427.5 224.5,-427.5 \" stroke=\"#000000\"/>\n",
       "<text fill=\"#000000\" font-family=\"Times,serif\" font-size=\"14.00\" text-anchor=\"middle\" x=\"196.6655\" y=\"-412.3\">output:</text>\n",
       "<polyline fill=\"none\" points=\"224.5,-405.5 224.5,-449.5 \" stroke=\"#000000\"/>\n",
       "<text fill=\"#000000\" font-family=\"Times,serif\" font-size=\"14.00\" text-anchor=\"middle\" x=\"283.8242\" y=\"-434.3\">(None, 24, 24, 3)</text>\n",
       "<polyline fill=\"none\" points=\"224.5,-427.5 343.1484,-427.5 \" stroke=\"#000000\"/>\n",
       "<text fill=\"#000000\" font-family=\"Times,serif\" font-size=\"14.00\" text-anchor=\"middle\" x=\"283.8242\" y=\"-412.3\">(None, 24, 24, 32)</text>\n",
       "</g>\n",
       "<!-- 4796627264&#45;&gt;4796628384 -->\n",
       "<g class=\"edge\" id=\"edge1\">\n",
       "<title>4796627264-&gt;4796628384</title>\n",
       "<path d=\"M192.9639,-486.3664C192.9639,-478.1516 192.9639,-468.6579 192.9639,-459.7252\" fill=\"none\" stroke=\"#000000\"/>\n",
       "<polygon fill=\"#000000\" points=\"196.464,-459.6068 192.9639,-449.6068 189.464,-459.6069 196.464,-459.6068\" stroke=\"#000000\"/>\n",
       "</g>\n",
       "<!-- 4796785608 -->\n",
       "<g class=\"node\" id=\"node3\">\n",
       "<title>4796785608</title>\n",
       "<polygon fill=\"none\" points=\"42.7793,-324.5 42.7793,-368.5 343.1484,-368.5 343.1484,-324.5 42.7793,-324.5\" stroke=\"#000000\"/>\n",
       "<text fill=\"#000000\" font-family=\"Times,serif\" font-size=\"14.00\" text-anchor=\"middle\" x=\"105.8052\" y=\"-342.3\">conv2d_4: Conv2D</text>\n",
       "<polyline fill=\"none\" points=\"168.8311,-324.5 168.8311,-368.5 \" stroke=\"#000000\"/>\n",
       "<text fill=\"#000000\" font-family=\"Times,serif\" font-size=\"14.00\" text-anchor=\"middle\" x=\"196.6655\" y=\"-353.3\">input:</text>\n",
       "<polyline fill=\"none\" points=\"168.8311,-346.5 224.5,-346.5 \" stroke=\"#000000\"/>\n",
       "<text fill=\"#000000\" font-family=\"Times,serif\" font-size=\"14.00\" text-anchor=\"middle\" x=\"196.6655\" y=\"-331.3\">output:</text>\n",
       "<polyline fill=\"none\" points=\"224.5,-324.5 224.5,-368.5 \" stroke=\"#000000\"/>\n",
       "<text fill=\"#000000\" font-family=\"Times,serif\" font-size=\"14.00\" text-anchor=\"middle\" x=\"283.8242\" y=\"-353.3\">(None, 24, 24, 32)</text>\n",
       "<polyline fill=\"none\" points=\"224.5,-346.5 343.1484,-346.5 \" stroke=\"#000000\"/>\n",
       "<text fill=\"#000000\" font-family=\"Times,serif\" font-size=\"14.00\" text-anchor=\"middle\" x=\"283.8242\" y=\"-331.3\">(None, 24, 24, 64)</text>\n",
       "</g>\n",
       "<!-- 4796628384&#45;&gt;4796785608 -->\n",
       "<g class=\"edge\" id=\"edge2\">\n",
       "<title>4796628384-&gt;4796785608</title>\n",
       "<path d=\"M192.9639,-405.3664C192.9639,-397.1516 192.9639,-387.6579 192.9639,-378.7252\" fill=\"none\" stroke=\"#000000\"/>\n",
       "<polygon fill=\"#000000\" points=\"196.464,-378.6068 192.9639,-368.6068 189.464,-378.6069 196.464,-378.6068\" stroke=\"#000000\"/>\n",
       "</g>\n",
       "<!-- 4796626480 -->\n",
       "<g class=\"node\" id=\"node4\">\n",
       "<title>4796626480</title>\n",
       "<polygon fill=\"none\" points=\"0,-243.5 0,-287.5 385.9277,-287.5 385.9277,-243.5 0,-243.5\" stroke=\"#000000\"/>\n",
       "<text fill=\"#000000\" font-family=\"Times,serif\" font-size=\"14.00\" text-anchor=\"middle\" x=\"105.8052\" y=\"-261.3\">max_pooling2d_3: MaxPooling2D</text>\n",
       "<polyline fill=\"none\" points=\"211.6104,-243.5 211.6104,-287.5 \" stroke=\"#000000\"/>\n",
       "<text fill=\"#000000\" font-family=\"Times,serif\" font-size=\"14.00\" text-anchor=\"middle\" x=\"239.4448\" y=\"-272.3\">input:</text>\n",
       "<polyline fill=\"none\" points=\"211.6104,-265.5 267.2793,-265.5 \" stroke=\"#000000\"/>\n",
       "<text fill=\"#000000\" font-family=\"Times,serif\" font-size=\"14.00\" text-anchor=\"middle\" x=\"239.4448\" y=\"-250.3\">output:</text>\n",
       "<polyline fill=\"none\" points=\"267.2793,-243.5 267.2793,-287.5 \" stroke=\"#000000\"/>\n",
       "<text fill=\"#000000\" font-family=\"Times,serif\" font-size=\"14.00\" text-anchor=\"middle\" x=\"326.6035\" y=\"-272.3\">(None, 24, 24, 64)</text>\n",
       "<polyline fill=\"none\" points=\"267.2793,-265.5 385.9277,-265.5 \" stroke=\"#000000\"/>\n",
       "<text fill=\"#000000\" font-family=\"Times,serif\" font-size=\"14.00\" text-anchor=\"middle\" x=\"326.6035\" y=\"-250.3\">(None, 12, 12, 64)</text>\n",
       "</g>\n",
       "<!-- 4796785608&#45;&gt;4796626480 -->\n",
       "<g class=\"edge\" id=\"edge3\">\n",
       "<title>4796785608-&gt;4796626480</title>\n",
       "<path d=\"M192.9639,-324.3664C192.9639,-316.1516 192.9639,-306.6579 192.9639,-297.7252\" fill=\"none\" stroke=\"#000000\"/>\n",
       "<polygon fill=\"#000000\" points=\"196.464,-297.6068 192.9639,-287.6068 189.464,-297.6069 196.464,-297.6068\" stroke=\"#000000\"/>\n",
       "</g>\n",
       "<!-- 4796778256 -->\n",
       "<g class=\"node\" id=\"node5\">\n",
       "<title>4796778256</title>\n",
       "<polygon fill=\"none\" points=\"50.1724,-162.5 50.1724,-206.5 335.7554,-206.5 335.7554,-162.5 50.1724,-162.5\" stroke=\"#000000\"/>\n",
       "<text fill=\"#000000\" font-family=\"Times,serif\" font-size=\"14.00\" text-anchor=\"middle\" x=\"105.8052\" y=\"-180.3\">flatten_2: Flatten</text>\n",
       "<polyline fill=\"none\" points=\"161.438,-162.5 161.438,-206.5 \" stroke=\"#000000\"/>\n",
       "<text fill=\"#000000\" font-family=\"Times,serif\" font-size=\"14.00\" text-anchor=\"middle\" x=\"189.2725\" y=\"-191.3\">input:</text>\n",
       "<polyline fill=\"none\" points=\"161.438,-184.5 217.1069,-184.5 \" stroke=\"#000000\"/>\n",
       "<text fill=\"#000000\" font-family=\"Times,serif\" font-size=\"14.00\" text-anchor=\"middle\" x=\"189.2725\" y=\"-169.3\">output:</text>\n",
       "<polyline fill=\"none\" points=\"217.1069,-162.5 217.1069,-206.5 \" stroke=\"#000000\"/>\n",
       "<text fill=\"#000000\" font-family=\"Times,serif\" font-size=\"14.00\" text-anchor=\"middle\" x=\"276.4312\" y=\"-191.3\">(None, 12, 12, 64)</text>\n",
       "<polyline fill=\"none\" points=\"217.1069,-184.5 335.7554,-184.5 \" stroke=\"#000000\"/>\n",
       "<text fill=\"#000000\" font-family=\"Times,serif\" font-size=\"14.00\" text-anchor=\"middle\" x=\"276.4312\" y=\"-169.3\">(None, 9216)</text>\n",
       "</g>\n",
       "<!-- 4796626480&#45;&gt;4796778256 -->\n",
       "<g class=\"edge\" id=\"edge4\">\n",
       "<title>4796626480-&gt;4796778256</title>\n",
       "<path d=\"M192.9639,-243.3664C192.9639,-235.1516 192.9639,-225.6579 192.9639,-216.7252\" fill=\"none\" stroke=\"#000000\"/>\n",
       "<polygon fill=\"#000000\" points=\"196.464,-216.6068 192.9639,-206.6068 189.464,-216.6069 196.464,-216.6068\" stroke=\"#000000\"/>\n",
       "</g>\n",
       "<!-- 4797234088 -->\n",
       "<g class=\"node\" id=\"node6\">\n",
       "<title>4797234088</title>\n",
       "<polygon fill=\"none\" points=\"67.6792,-81.5 67.6792,-125.5 318.2485,-125.5 318.2485,-81.5 67.6792,-81.5\" stroke=\"#000000\"/>\n",
       "<text fill=\"#000000\" font-family=\"Times,serif\" font-size=\"14.00\" text-anchor=\"middle\" x=\"119.8052\" y=\"-99.3\">dense_3: Dense</text>\n",
       "<polyline fill=\"none\" points=\"171.9312,-81.5 171.9312,-125.5 \" stroke=\"#000000\"/>\n",
       "<text fill=\"#000000\" font-family=\"Times,serif\" font-size=\"14.00\" text-anchor=\"middle\" x=\"199.7656\" y=\"-110.3\">input:</text>\n",
       "<polyline fill=\"none\" points=\"171.9312,-103.5 227.6001,-103.5 \" stroke=\"#000000\"/>\n",
       "<text fill=\"#000000\" font-family=\"Times,serif\" font-size=\"14.00\" text-anchor=\"middle\" x=\"199.7656\" y=\"-88.3\">output:</text>\n",
       "<polyline fill=\"none\" points=\"227.6001,-81.5 227.6001,-125.5 \" stroke=\"#000000\"/>\n",
       "<text fill=\"#000000\" font-family=\"Times,serif\" font-size=\"14.00\" text-anchor=\"middle\" x=\"272.9243\" y=\"-110.3\">(None, 9216)</text>\n",
       "<polyline fill=\"none\" points=\"227.6001,-103.5 318.2485,-103.5 \" stroke=\"#000000\"/>\n",
       "<text fill=\"#000000\" font-family=\"Times,serif\" font-size=\"14.00\" text-anchor=\"middle\" x=\"272.9243\" y=\"-88.3\">(None, 128)</text>\n",
       "</g>\n",
       "<!-- 4796778256&#45;&gt;4797234088 -->\n",
       "<g class=\"edge\" id=\"edge5\">\n",
       "<title>4796778256-&gt;4797234088</title>\n",
       "<path d=\"M192.9639,-162.3664C192.9639,-154.1516 192.9639,-144.6579 192.9639,-135.7252\" fill=\"none\" stroke=\"#000000\"/>\n",
       "<polygon fill=\"#000000\" points=\"196.464,-135.6068 192.9639,-125.6068 189.464,-135.6069 196.464,-135.6068\" stroke=\"#000000\"/>\n",
       "</g>\n",
       "<!-- 4783352520 -->\n",
       "<g class=\"node\" id=\"node7\">\n",
       "<title>4783352520</title>\n",
       "<polygon fill=\"none\" points=\"71.1792,-.5 71.1792,-44.5 314.7485,-44.5 314.7485,-.5 71.1792,-.5\" stroke=\"#000000\"/>\n",
       "<text fill=\"#000000\" font-family=\"Times,serif\" font-size=\"14.00\" text-anchor=\"middle\" x=\"123.3052\" y=\"-18.3\">dense_4: Dense</text>\n",
       "<polyline fill=\"none\" points=\"175.4312,-.5 175.4312,-44.5 \" stroke=\"#000000\"/>\n",
       "<text fill=\"#000000\" font-family=\"Times,serif\" font-size=\"14.00\" text-anchor=\"middle\" x=\"203.2656\" y=\"-29.3\">input:</text>\n",
       "<polyline fill=\"none\" points=\"175.4312,-22.5 231.1001,-22.5 \" stroke=\"#000000\"/>\n",
       "<text fill=\"#000000\" font-family=\"Times,serif\" font-size=\"14.00\" text-anchor=\"middle\" x=\"203.2656\" y=\"-7.3\">output:</text>\n",
       "<polyline fill=\"none\" points=\"231.1001,-.5 231.1001,-44.5 \" stroke=\"#000000\"/>\n",
       "<text fill=\"#000000\" font-family=\"Times,serif\" font-size=\"14.00\" text-anchor=\"middle\" x=\"272.9243\" y=\"-29.3\">(None, 128)</text>\n",
       "<polyline fill=\"none\" points=\"231.1001,-22.5 314.7485,-22.5 \" stroke=\"#000000\"/>\n",
       "<text fill=\"#000000\" font-family=\"Times,serif\" font-size=\"14.00\" text-anchor=\"middle\" x=\"272.9243\" y=\"-7.3\">(None, 3)</text>\n",
       "</g>\n",
       "<!-- 4797234088&#45;&gt;4783352520 -->\n",
       "<g class=\"edge\" id=\"edge6\">\n",
       "<title>4797234088-&gt;4783352520</title>\n",
       "<path d=\"M192.9639,-81.3664C192.9639,-73.1516 192.9639,-63.6579 192.9639,-54.7252\" fill=\"none\" stroke=\"#000000\"/>\n",
       "<polygon fill=\"#000000\" points=\"196.464,-54.6068 192.9639,-44.6068 189.464,-54.6069 196.464,-54.6068\" stroke=\"#000000\"/>\n",
       "</g>\n",
       "</g>\n",
       "</svg>"
      ],
      "text/plain": [
       "<IPython.core.display.SVG object>"
      ]
     },
     "execution_count": 5,
     "metadata": {},
     "output_type": "execute_result"
    }
   ],
   "source": [
    "# model\n",
    "\n",
    "model = Sequential()\n",
    "model.add(Conv2D(32, (3, 3), padding='same', activation='relu', input_shape=(24,24,3)))\n",
    "model.add(Conv2D(64, (3, 3), padding='same', activation='relu'))\n",
    "model.add(MaxPooling2D(pool_size=(2,2)))\n",
    "model.add(Flatten())\n",
    "model.add(Dense(128, activation='relu'))\n",
    "model.add(Dense(3, activation='softmax'))\n",
    "\n",
    "# visualize model\n",
    "from IPython.display import SVG\n",
    "from keras.utils.vis_utils import model_to_dot\n",
    "%matplotlib inline\n",
    "SVG(model_to_dot(model, show_shapes=True).create(prog='dot', format='svg'))"
   ]
  },
  {
   "cell_type": "code",
   "execution_count": 10,
   "metadata": {
    "collapsed": false
   },
   "outputs": [
    {
     "name": "stdout",
     "output_type": "stream",
     "text": [
      "Found 45 images belonging to 3 classes.\n",
      "Found 15 images belonging to 3 classes.\n"
     ]
    }
   ],
   "source": [
    "# data from ImageDataGenerator\n",
    "\n",
    "# train data augmentation\n",
    "train_datagen = ImageDataGenerator(rescale=1./255,\n",
    "                                   rotation_range=15,\n",
    "                                   width_shift_range=0.1,\n",
    "                                   height_shift_range=0.1,\n",
    "                                   shear_range=0.5,\n",
    "                                   zoom_range=[0.8, 2.0],\n",
    "                                   horizontal_flip=True,\n",
    "                                   vertical_flip=True,\n",
    "                                   fill_mode='nearest')\n",
    "\n",
    "train_generator = train_datagen.flow_from_directory(\n",
    "    './handwriting_shape/train',\n",
    "    target_size=(24,24),\n",
    "    batch_size=3,\n",
    "    class_mode='categorical'\n",
    ")\n",
    "test_datagen = ImageDataGenerator(rescale=1./255)\n",
    "test_generator = test_datagen.flow_from_directory(\n",
    "    './handwriting_shape/test',\n",
    "    target_size=(24,24),\n",
    "    batch_size=3,\n",
    "    class_mode='categorical'\n",
    ")"
   ]
  },
  {
   "cell_type": "code",
   "execution_count": 11,
   "metadata": {
    "collapsed": false
   },
   "outputs": [
    {
     "name": "stdout",
     "output_type": "stream",
     "text": [
      "Epoch 1/50\n",
      "150/150 [==============================] - 7s 47ms/step - loss: 0.8943 - acc: 0.6133 - val_loss: 0.1146 - val_acc: 1.0000\n",
      "Epoch 2/50\n",
      "150/150 [==============================] - 6s 42ms/step - loss: 0.4231 - acc: 0.8489 - val_loss: 0.0269 - val_acc: 1.0000\n",
      "Epoch 3/50\n",
      "150/150 [==============================] - 6s 42ms/step - loss: 0.3111 - acc: 0.8844 - val_loss: 0.0209 - val_acc: 1.0000\n",
      "Epoch 4/50\n",
      "150/150 [==============================] - 6s 41ms/step - loss: 0.2097 - acc: 0.9200 - val_loss: 0.0035 - val_acc: 1.0000\n",
      "Epoch 5/50\n",
      "150/150 [==============================] - 7s 48ms/step - loss: 0.2340 - acc: 0.9067 - val_loss: 0.0151 - val_acc: 1.0000\n",
      "Epoch 6/50\n",
      "150/150 [==============================] - 8s 50ms/step - loss: 0.1602 - acc: 0.9400 - val_loss: 0.0080 - val_acc: 1.0000\n",
      "Epoch 7/50\n",
      "150/150 [==============================] - 6s 41ms/step - loss: 0.1957 - acc: 0.9378 - val_loss: 1.4477e-04 - val_acc: 1.0000\n",
      "Epoch 8/50\n",
      "150/150 [==============================] - 7s 49ms/step - loss: 0.1553 - acc: 0.9600 - val_loss: 5.7060e-04 - val_acc: 1.0000\n",
      "Epoch 9/50\n",
      "150/150 [==============================] - 8s 50ms/step - loss: 0.1412 - acc: 0.9600 - val_loss: 0.0089 - val_acc: 1.0000\n",
      "Epoch 10/50\n",
      "150/150 [==============================] - 7s 45ms/step - loss: 0.1719 - acc: 0.9289 - val_loss: 0.0036 - val_acc: 1.0000\n",
      "Epoch 11/50\n",
      "150/150 [==============================] - 8s 54ms/step - loss: 0.1329 - acc: 0.9489 - val_loss: 0.0013 - val_acc: 1.0000\n",
      "Epoch 12/50\n",
      "150/150 [==============================] - 7s 49ms/step - loss: 0.1656 - acc: 0.9356 - val_loss: 0.0053 - val_acc: 1.0000\n",
      "Epoch 13/50\n",
      "150/150 [==============================] - 7s 48ms/step - loss: 0.1112 - acc: 0.9622 - val_loss: 8.9132e-04 - val_acc: 1.0000\n",
      "Epoch 14/50\n",
      "150/150 [==============================] - 7s 45ms/step - loss: 0.1033 - acc: 0.9667 - val_loss: 4.3758e-04 - val_acc: 1.0000\n",
      "Epoch 15/50\n",
      "150/150 [==============================] - 8s 53ms/step - loss: 0.1205 - acc: 0.9644 - val_loss: 0.0014 - val_acc: 1.0000\n",
      "Epoch 16/50\n",
      "150/150 [==============================] - 7s 44ms/step - loss: 0.0793 - acc: 0.9711 - val_loss: 0.0167 - val_acc: 1.0000\n",
      "Epoch 17/50\n",
      "150/150 [==============================] - 7s 43ms/step - loss: 0.1037 - acc: 0.9556 - val_loss: 0.0338 - val_acc: 1.0000\n",
      "Epoch 18/50\n",
      "150/150 [==============================] - 7s 48ms/step - loss: 0.0958 - acc: 0.9600 - val_loss: 0.0023 - val_acc: 1.0000\n",
      "Epoch 19/50\n",
      "150/150 [==============================] - 8s 51ms/step - loss: 0.1170 - acc: 0.9667 - val_loss: 0.0020 - val_acc: 1.0000\n",
      "Epoch 20/50\n",
      "150/150 [==============================] - 6s 43ms/step - loss: 0.1322 - acc: 0.9467 - val_loss: 0.0146 - val_acc: 1.0000\n",
      "Epoch 21/50\n",
      "150/150 [==============================] - 9s 58ms/step - loss: 0.0481 - acc: 0.9800 - val_loss: 3.0627e-04 - val_acc: 1.0000\n",
      "Epoch 22/50\n",
      "150/150 [==============================] - 7s 46ms/step - loss: 0.0643 - acc: 0.9733 - val_loss: 4.4571e-04 - val_acc: 1.0000\n",
      "Epoch 23/50\n",
      "150/150 [==============================] - 8s 54ms/step - loss: 0.0822 - acc: 0.9733 - val_loss: 3.2531e-04 - val_acc: 1.0000\n",
      "Epoch 24/50\n",
      "150/150 [==============================] - 9s 57ms/step - loss: 0.0630 - acc: 0.9711 - val_loss: 0.0047 - val_acc: 1.0000\n",
      "Epoch 25/50\n",
      "150/150 [==============================] - 6s 42ms/step - loss: 0.0892 - acc: 0.9689 - val_loss: 0.0413 - val_acc: 1.0000\n",
      "Epoch 26/50\n",
      "150/150 [==============================] - 6s 42ms/step - loss: 0.0701 - acc: 0.9867 - val_loss: 6.6728e-04 - val_acc: 1.0000\n",
      "Epoch 27/50\n",
      "150/150 [==============================] - 6s 42ms/step - loss: 0.0661 - acc: 0.9756 - val_loss: 5.3794e-04 - val_acc: 1.0000\n",
      "Epoch 28/50\n",
      "150/150 [==============================] - 6s 41ms/step - loss: 0.0459 - acc: 0.9822 - val_loss: 9.9370e-05 - val_acc: 1.0000\n",
      "Epoch 29/50\n",
      "150/150 [==============================] - 6s 42ms/step - loss: 0.0628 - acc: 0.9756 - val_loss: 3.2165e-05 - val_acc: 1.0000\n",
      "Epoch 30/50\n",
      "150/150 [==============================] - 7s 47ms/step - loss: 0.0394 - acc: 0.9889 - val_loss: 1.7165e-04 - val_acc: 1.0000\n",
      "Epoch 31/50\n",
      "150/150 [==============================] - 6s 42ms/step - loss: 0.0483 - acc: 0.9889 - val_loss: 7.9990e-06 - val_acc: 1.0000\n",
      "Epoch 32/50\n",
      "150/150 [==============================] - 6s 42ms/step - loss: 0.0655 - acc: 0.9822 - val_loss: 7.3211e-05 - val_acc: 1.0000\n",
      "Epoch 33/50\n",
      "150/150 [==============================] - 6s 42ms/step - loss: 0.0207 - acc: 0.9933 - val_loss: 9.6204e-06 - val_acc: 1.0000\n",
      "Epoch 34/50\n",
      "150/150 [==============================] - 6s 42ms/step - loss: 0.0224 - acc: 0.9933 - val_loss: 7.5102e-07 - val_acc: 1.0000\n",
      "Epoch 35/50\n",
      "150/150 [==============================] - 7s 45ms/step - loss: 0.0378 - acc: 0.9933 - val_loss: 1.7060e-05 - val_acc: 1.0000\n",
      "Epoch 36/50\n",
      "150/150 [==============================] - 6s 42ms/step - loss: 0.0627 - acc: 0.9778 - val_loss: 5.0625e-06 - val_acc: 1.0000\n",
      "Epoch 37/50\n",
      "150/150 [==============================] - 6s 42ms/step - loss: 0.0389 - acc: 0.9867 - val_loss: 1.9580e-04 - val_acc: 1.0000\n",
      "Epoch 38/50\n",
      "150/150 [==============================] - 6s 41ms/step - loss: 0.0483 - acc: 0.9800 - val_loss: 5.8711e-05 - val_acc: 1.0000\n",
      "Epoch 39/50\n",
      "150/150 [==============================] - 6s 42ms/step - loss: 0.0413 - acc: 0.9867 - val_loss: 2.0782e-06 - val_acc: 1.0000\n",
      "Epoch 40/50\n",
      "150/150 [==============================] - 6s 42ms/step - loss: 0.0122 - acc: 0.9956 - val_loss: 5.5673e-06 - val_acc: 1.0000\n",
      "Epoch 41/50\n",
      "150/150 [==============================] - 6s 42ms/step - loss: 0.0056 - acc: 1.0000 - val_loss: 2.9326e-06 - val_acc: 1.0000\n",
      "Epoch 42/50\n",
      "150/150 [==============================] - 6s 42ms/step - loss: 0.0043 - acc: 1.0000 - val_loss: 7.0138e-06 - val_acc: 1.0000\n",
      "Epoch 43/50\n",
      "150/150 [==============================] - 7s 44ms/step - loss: 0.0177 - acc: 0.9933 - val_loss: 5.3446e-06 - val_acc: 1.0000\n",
      "Epoch 44/50\n",
      "150/150 [==============================] - 7s 47ms/step - loss: 0.0085 - acc: 0.9978 - val_loss: 1.5696e-06 - val_acc: 1.0000\n",
      "Epoch 45/50\n",
      "150/150 [==============================] - 6s 42ms/step - loss: 0.0439 - acc: 0.9867 - val_loss: 2.5472e-04 - val_acc: 1.0000\n",
      "Epoch 46/50\n",
      "150/150 [==============================] - 6s 42ms/step - loss: 0.0370 - acc: 0.9911 - val_loss: 2.6342e-05 - val_acc: 1.0000\n",
      "Epoch 47/50\n",
      "150/150 [==============================] - 7s 46ms/step - loss: 0.0599 - acc: 0.9867 - val_loss: 4.9672e-04 - val_acc: 1.0000\n",
      "Epoch 48/50\n",
      "150/150 [==============================] - 7s 47ms/step - loss: 0.0377 - acc: 0.9844 - val_loss: 4.2011e-04 - val_acc: 1.0000\n",
      "Epoch 49/50\n",
      "150/150 [==============================] - 6s 42ms/step - loss: 0.0495 - acc: 0.9867 - val_loss: 4.7325e-05 - val_acc: 1.0000\n",
      "Epoch 50/50\n",
      "150/150 [==============================] - 6s 42ms/step - loss: 0.0317 - acc: 0.9889 - val_loss: 1.5200e-05 - val_acc: 1.0000\n"
     ]
    },
    {
     "data": {
      "text/plain": [
       "<keras.callbacks.History at 0x11e859a20>"
      ]
     },
     "execution_count": 11,
     "metadata": {},
     "output_type": "execute_result"
    }
   ],
   "source": [
    "# train\n",
    "model.compile(loss='categorical_crossentropy', optimizer='adam', metrics=['accuracy'])\n",
    "model.fit_generator(\n",
    "    train_generator,\n",
    "    steps_per_epoch=15 * 10,\n",
    "    epochs=50,\n",
    "    validation_data=test_generator,\n",
    "    validation_steps=5\n",
    ")"
   ]
  },
  {
   "cell_type": "code",
   "execution_count": 12,
   "metadata": {
    "collapsed": false
   },
   "outputs": [
    {
     "name": "stdout",
     "output_type": "stream",
     "text": [
      "---Evaluate---\n",
      "acc: 100.00%\n"
     ]
    }
   ],
   "source": [
    "print(\"---Evaluate---\")\n",
    "scores = model.evaluate_generator(test_generator, steps=5)\n",
    "print(\"%s: %.2f%%\" %(model.metrics_names[1], scores[1]*100))"
   ]
  },
  {
   "cell_type": "code",
   "execution_count": 13,
   "metadata": {
    "collapsed": false
   },
   "outputs": [
    {
     "name": "stdout",
     "output_type": "stream",
     "text": [
      "---Predict---\n",
      "{'circle': 0, 'rectangle': 1, 'triangle': 2}\n",
      "[[0.000 1.000 0.000]\n",
      " [0.000 0.000 1.000]\n",
      " [0.000 0.000 1.000]\n",
      " [0.000 1.000 0.000]\n",
      " [1.000 0.000 0.000]\n",
      " [0.000 0.000 1.000]\n",
      " [0.000 1.000 0.000]\n",
      " [0.000 1.000 0.000]\n",
      " [1.000 0.000 0.000]\n",
      " [0.000 1.000 0.000]\n",
      " [0.000 0.000 1.000]\n",
      " [1.000 0.000 0.000]\n",
      " [0.000 0.000 1.000]\n",
      " [1.000 0.000 0.000]\n",
      " [1.000 0.000 0.000]]\n"
     ]
    }
   ],
   "source": [
    "print(\"---Predict---\")\n",
    "output = model.predict_generator(test_generator, steps=5)\n",
    "np.set_printoptions(formatter={'float': lambda x: \"{0:0.3f}\".format(x)})\n",
    "print(test_generator.class_indices)\n",
    "print(output)"
   ]
  },
  {
   "cell_type": "code",
   "execution_count": null,
   "metadata": {
    "collapsed": true
   },
   "outputs": [],
   "source": []
  }
 ],
 "metadata": {
  "kernelspec": {
   "display_name": "Python 3",
   "language": "python",
   "name": "python3"
  },
  "language_info": {
   "codemirror_mode": {
    "name": "ipython",
    "version": 3
   },
   "file_extension": ".py",
   "mimetype": "text/x-python",
   "name": "python",
   "nbconvert_exporter": "python",
   "pygments_lexer": "ipython3",
   "version": "3.6.2"
  }
 },
 "nbformat": 4,
 "nbformat_minor": 0
}
