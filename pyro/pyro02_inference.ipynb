{
 "cells": [
  {
   "cell_type": "code",
   "execution_count": 1,
   "metadata": {
    "collapsed": false
   },
   "outputs": [
    {
     "name": "stderr",
     "output_type": "stream",
     "text": [
      "/Users/hoondori/anaconda/envs/py2/lib/python2.7/site-packages/matplotlib/font_manager.py:273: UserWarning: Matplotlib is building the font cache using fc-list. This may take a moment.\n",
      "  warnings.warn('Matplotlib is building the font cache using fc-list. This may take a moment.')\n"
     ]
    },
    {
     "data": {
      "text/plain": [
       "<torch._C.Generator at 0x1037904b0>"
      ]
     },
     "execution_count": 1,
     "metadata": {},
     "output_type": "execute_result"
    }
   ],
   "source": [
    "import numpy as np\n",
    "import torch\n",
    "from torch.autograd import Variable\n",
    "import pyro\n",
    "import pyro.infer\n",
    "import pyro.optim\n",
    "import pyro.distributions as dist\n",
    "\n",
    "%matplotlib inline\n",
    "import matplotlib.pyplot as plt \n",
    "\n",
    "torch.manual_seed(101)"
   ]
  },
  {
   "cell_type": "markdown",
   "metadata": {},
   "source": [
    "# Inference in pyro: From Stochastic Functions to Marginal Distributions\n",
    "\n",
    "* stochastic function induce a joint dist p(y,z|x) over latent variables z and return y\n",
    "* joint dist induce a marginal dist over return values of the function\n",
    "* inference is constructing marginal distribution given an arbitaray boolean constraint\n",
    "* baysian inference admit tractable approximations\n"
   ]
  },
  {
   "cell_type": "markdown",
   "metadata": {},
   "source": [
    "## Simple Example\n",
    "\n",
    "* weight: latent variable, x\n",
    "* measurement : output varaible, y"
   ]
  },
  {
   "cell_type": "code",
   "execution_count": 2,
   "metadata": {
    "collapsed": true
   },
   "outputs": [],
   "source": [
    "def scale(guess):\n",
    "    # prior\n",
    "    weight = pyro.sample(\"weight\", dist.normal, guess, Variable(torch.ones(1)))\n",
    "    # measurement fluctuates around the true weight\n",
    "    return pyro.sample(\"measurement\", dist.normal, weight, Variable(torch.Tensor([0.75])))"
   ]
  },
  {
   "cell_type": "code",
   "execution_count": 3,
   "metadata": {
    "collapsed": false
   },
   "outputs": [],
   "source": [
    "posterior = pyro.infer.Importance(scale, num_samples=100)"
   ]
  },
  {
   "cell_type": "code",
   "execution_count": 4,
   "metadata": {
    "collapsed": false
   },
   "outputs": [
    {
     "name": "stdout",
     "output_type": "stream",
     "text": [
      "Variable containing:\n",
      " 10.0699\n",
      "[torch.FloatTensor of size 1]\n",
      "\n"
     ]
    }
   ],
   "source": [
    "guess = Variable(torch.Tensor([8.5]))\n",
    "marginal = pyro.infer.Marginal(posterior)\n",
    "print(marginal(guess))"
   ]
  },
  {
   "cell_type": "code",
   "execution_count": 5,
   "metadata": {
    "collapsed": false
   },
   "outputs": [
    {
     "data": {
      "text/plain": [
       "<matplotlib.text.Text at 0x10f215590>"
      ]
     },
     "execution_count": 5,
     "metadata": {},
     "output_type": "execute_result"
    },
    {
     "data": {
      "image/png": "[encoded data removed]",
      "text/plain": [
       "<matplotlib.figure.Figure at 0x10f159510>"
      ]
     },
     "metadata": {},
     "output_type": "display_data"
    }
   ],
   "source": [
    "plt.hist([marginal(guess).data[0] for _ in range(100)], range=(5.0,12.0))\n",
    "plt.title(\"P(measurement | guess )\")\n",
    "plt.xlabel(\"weight\")\n",
    "plt.ylabel(\"#\")\n",
    "\n",
    "#plt.show()"
   ]
  },
  {
   "cell_type": "markdown",
   "metadata": {
    "collapsed": true
   },
   "source": [
    "## Conditioning Models on Data\n",
    "\n",
    "* give evidence like measurement == sth\n",
    "* by pyro.condition, pyro.sample with obs, pyro.observe"
   ]
  },
  {
   "cell_type": "code",
   "execution_count": 6,
   "metadata": {
    "collapsed": false
   },
   "outputs": [
    {
     "name": "stdout",
     "output_type": "stream",
     "text": [
      "{'weight': Variable containing:\n",
      " 5.3855\n",
      "[torch.FloatTensor of size 1]\n",
      "}\n"
     ]
    },
    {
     "data": {
      "text/plain": [
       "<matplotlib.text.Text at 0x111ca59d0>"
      ]
     },
     "execution_count": 6,
     "metadata": {},
     "output_type": "execute_result"
    },
    {
     "data": {
      "image/png": "[encoded data removed]",
      "text/plain": [
       "<matplotlib.figure.Figure at 0x10f1fb790>"
      ]
     },
     "metadata": {},
     "output_type": "display_data"
    }
   ],
   "source": [
    "guess = Variable(torch.Tensor([3.5]))   # very wrong\n",
    "measurement_observed = Variable(torch.Tensor([9.5]))\n",
    "                      \n",
    "conditioned_scale = pyro.condition(scale, data={\"measurement\": measurement_observed})\n",
    "                                \n",
    "marginal = pyro.infer.Marginal(pyro.infer.Importance(conditioned_scale, num_samples=100), sites=[\"weight\"])\n",
    "\n",
    "print(marginal(guess))\n",
    "\n",
    "plt.hist([marginal(guess)[\"weight\"].data[0] for _ in range(100)], range=(2.0,12.0))\n",
    "plt.title(\"P(weight | measurement, guess )\")\n",
    "plt.xlabel(\"weight\")\n",
    "plt.ylabel(\"#\")\n"
   ]
  },
  {
   "cell_type": "markdown",
   "metadata": {
    "collapsed": false
   },
   "source": [
    "* guess가 true dist에 비해서 현져하게 다르다면 이는 매우 비효율적인 상황\n",
    "* guide function should generally be chosen so that it closely approximates the dist over all unobserved sample statements in the model"
   ]
  },
  {
   "cell_type": "markdown",
   "metadata": {},
   "source": [
    "### Prior를 Guide function으로 줘 보기"
   ]
  },
  {
   "cell_type": "code",
   "execution_count": 7,
   "metadata": {
    "collapsed": false
   },
   "outputs": [
    {
     "name": "stdout",
     "output_type": "stream",
     "text": [
      "{'weight': Variable containing:\n",
      " 6.3266\n",
      "[torch.FloatTensor of size 1]\n",
      "}\n"
     ]
    },
    {
     "data": {
      "text/plain": [
       "<matplotlib.text.Text at 0x111c07390>"
      ]
     },
     "execution_count": 7,
     "metadata": {},
     "output_type": "execute_result"
    },
    {
     "data": {
      "image/png": "[encoded data removed]",
      "text/plain": [
       "<matplotlib.figure.Figure at 0x10f14c150>"
      ]
     },
     "metadata": {},
     "output_type": "display_data"
    }
   ],
   "source": [
    "guess = Variable(torch.Tensor([3.5]))   # very wrong guide \n",
    "measurement_observed = Variable(torch.Tensor([9.5]))\n",
    "                      \n",
    "conditioned_scale = pyro.condition(scale, data={\"measurement\": measurement_observed})\n",
    "                      \n",
    "def scale_prior_guide(guess):\n",
    "    return pyro.sample(\"weight\", dist.normal, guess, Variable(torch.ones(1)))\n",
    "\n",
    "posterior = pyro.infer.Importance(conditioned_scale, guide=scale_prior_guide, num_samples=100)\n",
    "marginal = pyro.infer.Marginal(posterior, sites=[\"weight\"])\n",
    "\n",
    "print(marginal(guess))\n",
    "\n",
    "plt.hist([marginal(guess)[\"weight\"].data[0] for _ in range(100)], range=(1.0,12.0))\n",
    "plt.title(\"P(weight | measurement, guess )\")\n",
    "plt.xlabel(\"weight\")\n",
    "plt.ylabel(\"#\")"
   ]
  },
  {
   "cell_type": "markdown",
   "metadata": {},
   "source": [
    "### guess와 measurement 를 모두 고려한 guide function 사용"
   ]
  },
  {
   "cell_type": "code",
   "execution_count": 8,
   "metadata": {
    "collapsed": false
   },
   "outputs": [
    {
     "name": "stdout",
     "output_type": "stream",
     "text": [
      "{'weight': Variable containing:\n",
      " 7.1529\n",
      "[torch.FloatTensor of size 1]\n",
      "}\n"
     ]
    },
    {
     "data": {
      "text/plain": [
       "<matplotlib.text.Text at 0x112115b50>"
      ]
     },
     "execution_count": 8,
     "metadata": {},
     "output_type": "execute_result"
    },
    {
     "data": {
      "image/png": "[encoded data removed]",
      "text/plain": [
       "<matplotlib.figure.Figure at 0x1042fbfd0>"
      ]
     },
     "metadata": {},
     "output_type": "display_data"
    }
   ],
   "source": [
    "guess = Variable(torch.Tensor([3.5]))   # very wrong guide \n",
    "measurement_observed = Variable(torch.Tensor([9.5]))\n",
    "\n",
    "def deferred_conditioned_scale(measurement, *args, **kwargs):\n",
    "    return pyro.condition(scale, data={\"measurement\": measurement})(*args, **kwargs)\n",
    "                      \n",
    "def scale_posterior_guide(measurement, guess):\n",
    "    a = (guess + torch.sum(measurement)) / (measurement.size(0) +1.0)\n",
    "    b = Variable(torch.ones(1)) / (measurement.size(0)+1.0)\n",
    "    return pyro.sample(\"weight\", dist.normal, a, b)\n",
    "\n",
    "posterior = pyro.infer.Importance(deferred_conditioned_scale, guide=scale_posterior_guide, num_samples=100)\n",
    "marginal = pyro.infer.Marginal(posterior, sites=[\"weight\"])\n",
    "\n",
    "print(marginal(measurement_observed, guess))\n",
    "\n",
    "plt.hist([marginal(measurement_observed, guess)[\"weight\"].data[0] for _ in range(100)], range=(2.0,12.0))\n",
    "plt.title(\"P(weight | measurement, guess )\")\n",
    "plt.xlabel(\"weight\")\n",
    "plt.ylabel(\"#\")"
   ]
  },
  {
   "cell_type": "markdown",
   "metadata": {},
   "source": [
    "## Automated Variational Inference in Probabilistic Programming\n",
    "\n",
    "* It is easy to sample from the prior p(x) defined by a probabilistic program: simply run the program\n",
    "* But inference in such languages is hard: given a known value of a subset y of the variables, inference must essentially run the program ‘backwards’ to sample from p(x|y).\n",
    "  * weight 예제에서는, p(x|y=9.5)\n",
    "* Variational inference offers a powerful, deterministic approximation to exact Bayesian inferencein complex distributions.\n",
    "\n",
    "![](./images/02/01.png)\n",
    "\n",
    "![](./images/02/02.png)\n",
    "\n",
    "![](./images/02/03.png)\n",
    "\n",
    "![](./images/02/04.png)\n",
    "\n",
    "![](./images/02/05.png)\n",
    "\n",
    "![](./images/02/06.png)\n",
    "\n",
    "![](./images/02/07.png)\n"
   ]
  },
  {
   "cell_type": "markdown",
   "metadata": {
    "collapsed": false
   },
   "source": [
    "## Parameterized Stochastic Functions and Variational Inference\n",
    "\n",
    "* pyro.parm을 이용해서 위에서 언급한 일종의 variational program 틀을 만든다.\n",
    "* optim 을 이용해서 variational program의 parameter를 업데이트한다. \n",
    "* 찾은 최적화된 parameter를 가진 guide를 가지고\n",
    "  * Importance sampling에 guide로 활용해도 되고\n",
    "  * 직접 guide 자체에서 sampling을 해도 된다."
   ]
  },
  {
   "cell_type": "code",
   "execution_count": 15,
   "metadata": {
    "collapsed": true
   },
   "outputs": [],
   "source": [
    "def scale_parametrized_guide(guess):\n",
    "    a = pyro.param(\"a\", Variable(torch.randn(1) + guess.data.clone(), requires_grad=True))\n",
    "    b = pyro.param(\"b\", Variable(torch.randn(1), requires_grad=True))\n",
    "    return pyro.sample(\"weight\", dist.normal, a, torch.abs(b))"
   ]
  },
  {
   "cell_type": "code",
   "execution_count": 16,
   "metadata": {
    "collapsed": false
   },
   "outputs": [
    {
     "data": {
      "text/plain": [
       "<matplotlib.text.Text at 0x112e31a90>"
      ]
     },
     "execution_count": 16,
     "metadata": {},
     "output_type": "execute_result"
    },
    {
     "data": {
      "image/png": "[encoded data removed]",
      "text/plain": [
       "<matplotlib.figure.Figure at 0x112542310>"
      ]
     },
     "metadata": {},
     "output_type": "display_data"
    }
   ],
   "source": [
    "pyro.clear_param_store()\n",
    "svi = pyro.infer.SVI(model=conditioned_scale,\n",
    "                     guide=scale_parametrized_guide,\n",
    "                     optim=pyro.optim.SGD({\"lr\": 0.001}),\n",
    "                     loss=\"ELBO\")\n",
    "\n",
    "losses = []\n",
    "for t in range(1000):\n",
    "    losses.append(svi.step(guess))\n",
    "\n",
    "plt.plot(losses)\n",
    "plt.title(\"ELBO\")\n",
    "plt.xlabel(\"step\")\n",
    "plt.ylabel(\"loss\")"
   ]
  },
  {
   "cell_type": "code",
   "execution_count": 20,
   "metadata": {
    "collapsed": false
   },
   "outputs": [
    {
     "data": {
      "text/plain": [
       "<matplotlib.text.Text at 0x113b91490>"
      ]
     },
     "execution_count": 20,
     "metadata": {},
     "output_type": "execute_result"
    },
    {
     "data": {
      "image/png": "[encoded data removed]",
      "text/plain": [
       "<matplotlib.figure.Figure at 0x111bd7090>"
      ]
     },
     "metadata": {},
     "output_type": "display_data"
    }
   ],
   "source": [
    "posterior = pyro.infer.Importance(conditioned_scale, scale_parametrized_guide, num_samples=10)\n",
    "marginal = pyro.infer.Marginal(posterior, sites=[\"weight\"])\n",
    "\n",
    "plt.hist([marginal(guess)[\"weight\"].data[0] for _ in range(100)], range=(5.0, 12.0))\n",
    "plt.title(\"P(weight | measurement, guess)\")\n",
    "plt.xlabel(\"weight\")\n",
    "plt.ylabel(\"#\")"
   ]
  },
  {
   "cell_type": "code",
   "execution_count": 21,
   "metadata": {
    "collapsed": false
   },
   "outputs": [
    {
     "data": {
      "text/plain": [
       "<matplotlib.text.Text at 0x113d0b150>"
      ]
     },
     "execution_count": 21,
     "metadata": {},
     "output_type": "execute_result"
    },
    {
     "data": {
      "image/png": "[encoded data removed]",
      "text/plain": [
       "<matplotlib.figure.Figure at 0x112aabf50>"
      ]
     },
     "metadata": {},
     "output_type": "display_data"
    }
   ],
   "source": [
    "plt.hist([scale_parametrized_guide(guess).data[0] for _ in range(100)], range=(5.0, 12.0))\n",
    "plt.title(\"P(weight | measurement, guess)\")\n",
    "plt.xlabel(\"weight\")\n",
    "plt.ylabel(\"#\")"
   ]
  },
  {
   "cell_type": "code",
   "execution_count": null,
   "metadata": {
    "collapsed": true
   },
   "outputs": [],
   "source": []
  }
 ],
 "metadata": {
  "kernelspec": {
   "display_name": "Python 2",
   "language": "python",
   "name": "python2"
  },
  "language_info": {
   "codemirror_mode": {
    "name": "ipython",
    "version": 2
   },
   "file_extension": ".py",
   "mimetype": "text/x-python",
   "name": "python",
   "nbconvert_exporter": "python",
   "pygments_lexer": "ipython2",
   "version": "2.7.11"
  }
 },
 "nbformat": 4,
 "nbformat_minor": 1
}
