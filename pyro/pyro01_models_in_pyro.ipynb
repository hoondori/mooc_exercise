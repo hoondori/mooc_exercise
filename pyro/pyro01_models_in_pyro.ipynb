{
 "cells": [
  {
   "cell_type": "code",
   "execution_count": 2,
   "metadata": {
    "collapsed": false
   },
   "outputs": [],
   "source": [
    "import torch\n",
    "from torch.autograd import Variable\n",
    "\n",
    "import pyro\n",
    "import pyro.distributions as dist"
   ]
  },
  {
   "cell_type": "code",
   "execution_count": 5,
   "metadata": {
    "collapsed": false
   },
   "outputs": [
    {
     "name": "stdout",
     "output_type": "stream",
     "text": [
      "Variable containing:\n",
      "-0.5316\n",
      "[torch.FloatTensor of size 1]\n",
      "\n"
     ]
    }
   ],
   "source": [
    "# draw a sample x from unit normal distribution\n",
    "\n",
    "mu = Variable(torch.zeros(1)) # mean zero\n",
    "sigma = Variable(torch.ones(1)) # unit variance\n",
    "x = dist.normal(mu, sigma) # x is sample from N(0,1)\n",
    "print(x)"
   ]
  },
  {
   "cell_type": "code",
   "execution_count": 6,
   "metadata": {
    "collapsed": false
   },
   "outputs": [
    {
     "name": "stdout",
     "output_type": "stream",
     "text": [
      "Variable containing:\n",
      "-1.0602\n",
      "[torch.FloatTensor of size 1]\n",
      "\n"
     ]
    }
   ],
   "source": [
    "# score sample x, i.e. compute log prob according to N(0,1)\n",
    "\n",
    "log_p_x = dist.normal.log_pdf(x, mu, sigma)\n",
    "print(log_p_x)"
   ]
  },
  {
   "cell_type": "code",
   "execution_count": 8,
   "metadata": {
    "collapsed": false
   },
   "outputs": [
    {
     "name": "stdout",
     "output_type": "stream",
     "text": [
      "Variable containing:\n",
      "-0.2348\n",
      "[torch.FloatTensor of size 1]\n",
      "\n"
     ]
    }
   ],
   "source": [
    "# named sample\n",
    "\n",
    "x = pyro.sample(\"my_sample\", dist.normal, mu, sigma )\n",
    "print(x)"
   ]
  },
  {
   "cell_type": "code",
   "execution_count": 12,
   "metadata": {
    "collapsed": false
   },
   "outputs": [
    {
     "name": "stdout",
     "output_type": "stream",
     "text": [
      "('sunny', 81.83702850341797)\n",
      "('sunny', 86.78369903564453)\n",
      "('cloudy', 51.43877029418945)\n"
     ]
    }
   ],
   "source": [
    "# 맑은/흐린 날씨에서의 온도\n",
    "\n",
    "def weather():\n",
    "    cloudy = pyro.sample(\"cloudy\", dist.bernoulli, Variable(torch.Tensor([0.3])))\n",
    "    cloudy = 'cloudy' if cloudy.data[0] == 1.0 else 'sunny'\n",
    "    mean_temp = {'cloudy': [55.0], 'sunny': [75.0]}[cloudy]\n",
    "    sigma_temp = {'cloudy': [10.0], 'sunny': [15.0]}[cloudy]\n",
    "    temp = pyro.sample('temp', dist.normal, \n",
    "                       Variable(torch.Tensor(mean_temp)),\n",
    "                       Variable(torch.Tensor(sigma_temp))\n",
    "                      )\n",
    "    return cloudy, temp.data[0]\n",
    "for _ in range(3):\n",
    "    print(weather())"
   ]
  },
  {
   "cell_type": "code",
   "execution_count": 18,
   "metadata": {
    "collapsed": false
   },
   "outputs": [
    {
     "name": "stdout",
     "output_type": "stream",
     "text": [
      "('cloudy', 55.03554153442383, 44.32622146606445)\n",
      "('sunny', 92.1712875366211, 195.0894775390625)\n",
      "('sunny', 66.23624420166016, 70.21913146972656)\n"
     ]
    }
   ],
   "source": [
    "# 날씨/온도에 따른 아이스크림 장사\n",
    "\n",
    "def ice_cream_sales():\n",
    "    cloudy, temp = weather()\n",
    "    expected_sales = [200] if cloudy == 'sunny' and temp > 80.0 else [50]\n",
    "    ice_cream = pyro.sample('ice_cream', dist.normal,\n",
    "                            Variable(torch.Tensor(expected_sales)),\n",
    "                            Variable(torch.Tensor([10.0])))\n",
    "    return cloudy, temp, ice_cream.data[0]\n",
    "\n",
    "for _ in range(3):\n",
    "    print(ice_cream_sales())"
   ]
  },
  {
   "cell_type": "code",
   "execution_count": 27,
   "metadata": {
    "collapsed": false
   },
   "outputs": [
    {
     "name": "stdout",
     "output_type": "stream",
     "text": [
      "Variable containing:\n",
      " 6\n",
      "[torch.FloatTensor of size 1]\n",
      "\n"
     ]
    }
   ],
   "source": [
    "# recursive function that terminate nondeterministically\n",
    "\n",
    "def geometric(p, t=None):\n",
    "    if t is None:\n",
    "        t = 0\n",
    "    x = pyro.sample(\"x_{}\".format(t), dist.bernoulli, p)\n",
    "    if torch.equal(x.data, torch.zeros(1)):\n",
    "        return x\n",
    "    else:\n",
    "        return x + geometric(p, t+1)\n",
    "\n",
    "print(geometric(Variable(torch.Tensor([0.7]))))"
   ]
  },
  {
   "cell_type": "code",
   "execution_count": 28,
   "metadata": {
    "collapsed": false
   },
   "outputs": [
    {
     "name": "stdout",
     "output_type": "stream",
     "text": [
      "Variable containing:\n",
      " 0.6565\n",
      "[torch.FloatTensor of size 1]\n",
      "\n"
     ]
    }
   ],
   "source": [
    "# stochastic function that accept stochastic function as input, producing stochastic function as output\n",
    "\n",
    "def normal_product(mu, sigma):\n",
    "    z1 = pyro.sample(\"z1\", dist.normal, mu, sigma)\n",
    "    z2 = pyro.sample(\"z2\", dist.normal, mu, sigma)\n",
    "    y = z1 * z2\n",
    "    return y\n",
    "\n",
    "def make_normal_normal():\n",
    "    mu_latent = pyro.sample(\"mu_latent\", dist.normal,\n",
    "                            Variable(torch.zeros(1)),\n",
    "                            Variable(torch.ones(1)))\n",
    "    fn = lambda sigma: normal_product(mu_latent, sigma)\n",
    "    return fn\n",
    "\n",
    "print(make_normal_normal()(Variable(torch.ones(1))))"
   ]
  }
 ],
 "metadata": {
  "kernelspec": {
   "display_name": "Python 2",
   "language": "python",
   "name": "python2"
  },
  "language_info": {
   "codemirror_mode": {
    "name": "ipython",
    "version": 2
   },
   "file_extension": ".py",
   "mimetype": "text/x-python",
   "name": "python",
   "nbconvert_exporter": "python",
   "pygments_lexer": "ipython2",
   "version": "2.7.11"
  }
 },
 "nbformat": 4,
 "nbformat_minor": 0
}
