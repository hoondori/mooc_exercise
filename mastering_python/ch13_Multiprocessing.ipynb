{
 "cells": [
  {
   "cell_type": "markdown",
   "metadata": {},
   "source": [
    "# 13. Multiprocessing – When a Single CPU Core Is Not Enough"
   ]
  },
  {
   "cell_type": "markdown",
   "metadata": {},
   "source": [
    "* Local multiprocessing\n",
    "* Remote multiprocessing\n",
    "* Data sharing and synchronization between processes"
   ]
  },
  {
   "cell_type": "markdown",
   "metadata": {},
   "source": [
    "## Multithreading versus multiprocessing\n",
    "\n",
    "### Multithreading\n",
    "\n",
    "* still executed in single process\n",
    "* in a single CPU core\n",
    "* also have to deal with limitation of GIL\n",
    "* does not help performance\n",
    "* python3 perf >= python2 perf\n",
    "* for CPU-bound task, multithread does not help\n",
    "* for Disk IO bound, it help, but recommend asyncio"
   ]
  },
  {
   "cell_type": "code",
   "execution_count": 1,
   "metadata": {},
   "outputs": [
    {
     "name": "stdout",
     "output_type": "stream",
     "text": [
      "The single threaded loops took: 0:00:03.831617\n",
      "The multithreaded loops took: 0:00:04.150431\n"
     ]
    }
   ],
   "source": [
    "import datetime\n",
    "import threading\n",
    "\n",
    "def busy_wait(n):\n",
    "    while n > 0:\n",
    "        n -= 1\n",
    "\n",
    "if __name__ == '__main__':\n",
    "    n = 10000000\n",
    "    start = datetime.datetime.now()\n",
    "    for _ in range(4):\n",
    "        busy_wait(n)\n",
    "    end = datetime.datetime.now()\n",
    "    print('The single threaded loops took: %s' % (end - start))\n",
    "    start = datetime.datetime.now()\n",
    "    threads = []\n",
    "    for _ in range(4):\n",
    "        thread = threading.Thread(target=busy_wait, args=(n,))\n",
    "        thread.start()\n",
    "        threads.append(thread)\n",
    "    for thread in threads:\n",
    "        thread.join()\n",
    "    end = datetime.datetime.now()\n",
    "    print('The multithreaded loops took: %s' % (end - start))"
   ]
  },
  {
   "cell_type": "markdown",
   "metadata": {},
   "source": [
    "### Multiprocessing\n",
    "\n",
    "* executed in multiple processes\n",
    "* even in a remote machines' process\n",
    "* no limitation of GIL"
   ]
  },
  {
   "cell_type": "code",
   "execution_count": 3,
   "metadata": {},
   "outputs": [
    {
     "name": "stdout",
     "output_type": "stream",
     "text": [
      "The multiprocessed loops took: 0:00:02.546087\n"
     ]
    }
   ],
   "source": [
    "import datetime\n",
    "import multiprocessing\n",
    "def busy_wait(n):\n",
    "    while n > 0:\n",
    "        n -= 1\n",
    "\n",
    "if __name__ == '__main__':\n",
    "    n = 10000000\n",
    "    start = datetime.datetime.now()\n",
    "    processes = []\n",
    "    for _ in range(4):\n",
    "        process = multiprocessing.Process(\n",
    "        target=busy_wait, args=(n,))\n",
    "        process.start()\n",
    "        processes.append(process)\n",
    "    for process in processes:\n",
    "        process.join()\n",
    "    end = datetime.datetime.now()\n",
    "    print('The multiprocessed loops took: %s' % (end - start))"
   ]
  },
  {
   "cell_type": "code",
   "execution_count": 6,
   "metadata": {},
   "outputs": [
    {
     "name": "stdout",
     "output_type": "stream",
     "text": [
      "4\n"
     ]
    }
   ],
   "source": [
    "print(multiprocessing.cpu_count()) # does not count hyperthreading"
   ]
  },
  {
   "cell_type": "markdown",
   "metadata": {},
   "source": [
    "# Hyper-threading versus physical CPU cores\n",
    "\n",
    "물리 CPU 개수보다 늘려도 별 효과 없음\n",
    "* context 스위칭 비용 때문에 더 느려질 수도\n",
    "\n",
    "Recommendation\n",
    "* Disk I/O bound? => single process\n",
    "* CPU bound?  => The amount of physical CPU cores \n",
    "* Network I/O bound? Start with the defaults and tune if needed.\n",
    "* No obvious bound but many parallel processes are needed? => try asyncio first"
   ]
  },
  {
   "cell_type": "code",
   "execution_count": 10,
   "metadata": {},
   "outputs": [
    {
     "name": "stdout",
     "output_type": "stream",
     "text": [
      "The multithreaded loops took: 0:00:07.995279\n"
     ]
    }
   ],
   "source": [
    "import sys\n",
    "import datetime\n",
    "import multiprocessing\n",
    "\n",
    "if __name__ == '__main__':\n",
    "    n = 10000000\n",
    "    processes = 1\n",
    "    start = datetime.datetime.now()\n",
    "    with multiprocessing.Pool(processes=processes) as pool:\n",
    "        # Execute the busy_wait function 8 times with parameter n\n",
    "        pool.map(busy_wait, [n for _ in range(8)])\n",
    "    end = datetime.datetime.now()\n",
    "    print('The multithreaded loops took: %s' % (end - start))"
   ]
  },
  {
   "cell_type": "markdown",
   "metadata": {},
   "source": [
    "The multithreaded loops took: 0:00:05.297707 #1\n",
    "\n",
    "The multithreaded loops took: 0:00:02.701344 #2\n",
    "\n",
    "The multithreaded loops took: 0:00:01.477845 #4\n",
    "\n",
    "The multithreaded loops took: 0:00:01.579218 #8\n",
    "\n",
    "The multithreaded loops took: 0:00:01.595239 #16"
   ]
  },
  {
   "cell_type": "markdown",
   "metadata": {},
   "source": [
    "# Creating a pool of workers\n",
    "\n",
    "있는 거 쓰라"
   ]
  },
  {
   "cell_type": "code",
   "execution_count": 13,
   "metadata": {},
   "outputs": [
    {
     "name": "stdout",
     "output_type": "stream",
     "text": [
      "Start processing...\n",
      "Still processing 0.001\n",
      "Still processing 0.001\n",
      "Still processing 0.001\n",
      "Still processing 0.001\n",
      "Still processing 0.001\n",
      "Result done 5.700\n",
      "Result done 11.004\n",
      "Result done 16.292\n",
      "Result done 22.097\n",
      "Result done 28.178\n",
      "Done processing: 28.178\n"
     ]
    }
   ],
   "source": [
    "import time\n",
    "import multiprocessing\n",
    "\n",
    "if __name__ == '__main__':\n",
    "    n = 10000000\n",
    "    items = [n for _ in range(8)]\n",
    "    with multiprocessing.Pool() as pool:\n",
    "        results = []\n",
    "        start = time.time()\n",
    "        print('Start processing...')\n",
    "        for _ in range(5):\n",
    "            results.append(pool.map_async(busy_wait, items))\n",
    "            print('Still processing %.3f' % (time.time() - start))\n",
    "        for result in results:\n",
    "            result.wait()\n",
    "            print('Result done %.3f' % (time.time() - start))\n",
    "        print('Done processing: %.3f' % (time.time() - start))"
   ]
  },
  {
   "cell_type": "markdown",
   "metadata": {},
   "source": [
    "# Sharing data between processes\n",
    "\n",
    "Don't share\n",
    "* 프로세스끼리 공유하지 말고, 각각 자기것만 처리(local)\n",
    "\n",
    "그럼에도 공유해야 한다면\n",
    "* Pipe, Namespace, Queue\n",
    "\n",
    "sync에 시간 소요\n",
    "* 수 miliseoconds to 수백 milliseconds\n",
    "\n",
    "Namespace\n",
    "* 일종의 regular object\n",
    "* namespace = manager.Namespace()\n",
    "** namespace.spam = 123\n",
    "** namespace.eggs = 456\n",
    "\n",
    "Pipe\n",
    "* Bidirectional communication\n",
    "* offer a reader and a writer\n",
    "* combine multiple processes/endpoints\n",
    "\n",
    "뭘 해도 lock으로 인해 시간 소요 \n",
    "* regular database server => 10 transaction limit\n",
    "* SSD => 100 transactions\n",
    "* 좋은 장비써도 그래도 시간 소요\n"
   ]
  },
  {
   "cell_type": "markdown",
   "metadata": {},
   "source": [
    "# Remote processes\n",
    "\n",
    "기능 있으나.. 문서화도 별로.. "
   ]
  },
  {
   "cell_type": "code",
   "execution_count": null,
   "metadata": {},
   "outputs": [],
   "source": [
    "# Driver Server 프로그램 시작\n",
    "\n",
    "import constants\n",
    "import multiprocessing\n",
    "from multiprocessing import managers\n",
    "\n",
    "queue = multiprocessing.Queue()\n",
    "manager = managers.BaseManager(address=('', constants.port),\n",
    "                                authkey=constants.password)\n",
    "manager.register('queue', callable=lambda: queue)\n",
    "manager.register('primes', callable=constants.primes)\n",
    "server = manager.get_server()\n",
    "server.serve_forever()"
   ]
  },
  {
   "cell_type": "code",
   "execution_count": null,
   "metadata": {},
   "outputs": [],
   "source": [
    "# 할일들 등록\n",
    "\n",
    "from multiprocessing import managers\n",
    "import functions\n",
    "\n",
    "manager = managers.BaseManager(address=(functions.host, functions.port),\n",
    "                               authkey=functions.password)\n",
    "manager.register('queue')\n",
    "manager.connect()\n",
    "queue = manager.queue()\n",
    "for i in range(1000):\n",
    "    queue.put(i)"
   ]
  },
  {
   "cell_type": "code",
   "execution_count": null,
   "metadata": {},
   "outputs": [],
   "source": [
    "# Worker in each worker machine\n",
    "\n",
    "from multiprocessing import managers\n",
    "import functions\n",
    "\n",
    "manager = managers.BaseManager(address=(functions.host, functions.port),\n",
    "                               authkey=functions.password)\n",
    "manager.register('queue')\n",
    "manager.register('primes')\n",
    "manager.connect()\n",
    "queue = manager.queue()\n",
    "\n",
    "while not queue.empty():\n",
    "    # Worker in each worer machine\n",
    "    print(manager.primes(queue.get()))"
   ]
  },
  {
   "cell_type": "markdown",
   "metadata": {},
   "source": [
    "# Distributed processing using IPyparallel\n",
    "\n",
    "Support\n",
    "* Single program, multiple data (SPMD) parallelism\n",
    "* Multiple program, multiple data (MPMD) parallelism\n",
    "* Message passing using MPI\n",
    "* Task farming\n",
    "* Data parallel\n",
    "\n",
    "IPython enables all types of parallel applications to be developed, executed, debugged, and monitored interactively\n",
    "\n",
    "\n",
    "Consists of four components:\n",
    "* The IPython engine\n",
    "  * listens for requests over the network, runs code, and returns results\n",
    "* The IPython hub\n",
    "  * keeps track of engine connections, schedulers, clients, as well as all task requests and results\n",
    "* The IPython schedulers\n",
    "* The IPython client\n",
    "\n"
   ]
  },
  {
   "cell_type": "markdown",
   "metadata": {},
   "source": [
    "$ ipcluster start -n 4\n",
    "\n",
    "In [1]: import ipyparallel as ipp\n",
    "\n",
    "In [2]: c = ipp.Client()\n",
    "\n",
    "In [3]: c.ids\n",
    "Out[3]: [0, 1, 2, 3]\n",
    "\n",
    "In [4]: c[:].apply_sync(lambda : \"Hello, World\")\n",
    "Out[4]: [ 'Hello, World', 'Hello, World', 'Hello, World', 'Hello, World' ]`"
   ]
  },
  {
   "cell_type": "code",
   "execution_count": null,
   "metadata": {},
   "outputs": [],
   "source": []
  }
 ],
 "metadata": {
  "kernelspec": {
   "display_name": "Python 3",
   "language": "python",
   "name": "python3"
  },
  "language_info": {
   "codemirror_mode": {
    "name": "ipython",
    "version": 3
   },
   "file_extension": ".py",
   "mimetype": "text/x-python",
   "name": "python",
   "nbconvert_exporter": "python",
   "pygments_lexer": "ipython3",
   "version": "3.6.2"
  }
 },
 "nbformat": 4,
 "nbformat_minor": 2
}
