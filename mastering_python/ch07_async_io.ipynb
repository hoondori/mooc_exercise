{
 "cells": [
  {
   "cell_type": "markdown",
   "metadata": {},
   "source": [
    "# Async I/O Multithreading without threads\n",
    "\n",
    "## 소개 \n",
    "* ch06, coroutine => 동기적\n",
    "  * 망하는 경우 예시 - 외부 리소스 요청 후 hang\n",
    "* ch07, 비동기적 \n",
    "  * 요청한 리소스가 정말 필요해질 때까지는 다른 일을 비동기적으로 처리\n",
    "  * node.js, ajax와 동일한 원리\n",
    "* 역사\n",
    "  * 1.5부터 asynccore가 있기는 했으나... 망작 \n",
    "  * 그동안 외부 라이브러리 각광, gevent, eventlet\n",
    "  * 3.4부터 심기일전해서 asyncio 도입 \n",
    "  * 3.5 부터 본격 활약. 3.5부터 쓰세요\n",
    "\n"
   ]
  },
  {
   "cell_type": "markdown",
   "metadata": {},
   "source": [
    "## new syntax in 3.5\n",
    "\n",
    "* async def로 선언\n",
    "* 비동기 결과 획득은 await coroutine()\n",
    "* 비동기 루프는 async for ... in ...\n",
    "* async with \n",
    "\n"
   ]
  },
  {
   "cell_type": "markdown",
   "metadata": {},
   "source": [
    "## a simple example of single-threaded parallel processing"
   ]
  },
  {
   "cell_type": "code",
   "execution_count": null,
   "metadata": {},
   "outputs": [],
   "source": [
    "import asyncio\n",
    "\n",
    "async def sleeper(delay):\n",
    "    await asyncio.sleep(delay)  # 그냥 sleep는 CPU 소비, 반면 asyncio는 CPU 양보\n",
    "    print('Finished sleeper with delay: %d' % delay)\n",
    "    \n",
    "loop = asyncio.get_event_loop() # default task switcher\n",
    "results = loop.run_until_complete(asyncio.wait((    # scala에서 Future.join 정도 의미\n",
    "    sleeper(1),\n",
    "    sleeper(3),\n",
    "    sleeper(2),\n",
    ")))"
   ]
  },
  {
   "cell_type": "code",
   "execution_count": null,
   "metadata": {},
   "outputs": [],
   "source": [
    "Finished sleeper with delay: 1\n",
    "Finished sleeper with delay: 2\n",
    "Finished sleeper with delay: 3"
   ]
  },
  {
   "cell_type": "markdown",
   "metadata": {},
   "source": [
    "## Concepts of asyncio\n",
    "\n",
    "### Future and Tasks\n",
    "\n",
    "* 결과에 대한 일종의 약속(Promise)\n",
    "* 결과가 실제 확보되면 등록된 콜백들에서 즉시 result 전달\n",
    "* 보통 Future보다는 이의 wrapper 격인 Task를 쓴다. \n",
    "* loop.create_task나 asyncio.ensure_future 같은 API를 통해 생성\n",
    "\n",
    "## Event loops\n",
    "\n",
    "* CPU scheduler 처럼 등록된 여러 개의 task들에게 CPU 사용을 switch하는 역할\n",
    "* default loop를 쓰거나 새로 만들거나\n"
   ]
  },
  {
   "cell_type": "code",
   "execution_count": null,
   "metadata": {},
   "outputs": [],
   "source": [
    "loop = asyncio.get_event_loop()\n",
    "result = loop.call_soon(loop.create_task, sleeper(1))\n",
    "result = loop.call_later(2, loop.stop)\n",
    "loop.run_forever()"
   ]
  },
  {
   "cell_type": "markdown",
   "metadata": {},
   "source": [
    "Finished sleeper with delay: 1"
   ]
  },
  {
   "cell_type": "code",
   "execution_count": null,
   "metadata": {},
   "outputs": [],
   "source": [
    "# debugging aysnc function\n",
    "\n",
    "async def stack_printer():\n",
    "    for task in asyncio.Task.all_tasks():\n",
    "        task.print_stack()\n",
    "        \n",
    "loop = asyncio.get_event_loop()\n",
    "result = loop.run_until_complete(stack_printer())"
   ]
  },
  {
   "cell_type": "markdown",
   "metadata": {},
   "source": [
    "## Event loop implementations\n",
    "\n",
    "* async.SelectorEventLoop, \n",
    "* async.ProactorEventLoop  - 성능 우월, 단 windows's completion port\n",
    "* example\n",
    "  * example of binding a function to the read event (EVENT_READ) on the standard input.\n",
    "  \n",
    "* Selector\n",
    "  * SelectSelector \n",
    "  * KqueueSelector\n",
    "  * EpollSelector,\n",
    "  * DevpollSelector"
   ]
  },
  {
   "cell_type": "code",
   "execution_count": null,
   "metadata": {},
   "outputs": [],
   "source": [
    "import sys\n",
    "import selectors\n",
    "def read(fh):\n",
    "    print('Got input from stdin: %r' % fh.readline())\n",
    "\n",
    "if __name__ == '__main__':\n",
    "    # Create the default selector\n",
    "    selector = selectors.DefaultSelector()\n",
    "    \n",
    "    # Register the read function for the READ event on stdin\n",
    "    selector.register(sys.stdin, selectors.EVENT_READ, read)\n",
    "    \n",
    "    while True:\n",
    "        for key, mask in selector.select():\n",
    "            # The data attribute contains the read function here\n",
    "            callback = key.data\n",
    "            \n",
    "            # Call it with the fileobj (stdin here)\n",
    "            callback(key.fileobj)"
   ]
  },
  {
   "cell_type": "markdown",
   "metadata": {},
   "source": [
    "## Event loop usage\n",
    "\n",
    "* loop.run_until_complete\n",
    "* loop.run_forever\n",
    "* add tasks\n",
    "  * ready된 task를 위한 큐 1개 + 스케줄링된 task를 위한 큐 1개 \n",
    "   * ready 큐를 다 수행시에는 스케줄 due된 task룰 ready 큐로 옮겨서 수행\n",
    "  * call_soon,call_soon_threadsafe => ready_queue\n",
    "  * call_later : 최소 지연 시간 지정, 스케줄 큐에 추가\n",
    "  * call_at : 특정 시간에 수행, 스케줄 큐에 추가\n",
    "* task 추가 후 cancel을 위한 handle 리턴, 단 cancel은 thread0-safe 하지 않음  "
   ]
  },
  {
   "cell_type": "code",
   "execution_count": null,
   "metadata": {},
   "outputs": [],
   "source": [
    "import time\n",
    "import asyncio\n",
    "\n",
    "t = time.time()\n",
    "def printer(name):\n",
    "    print('Started %s at %.1f' % (name, time.time() - t))\n",
    "    time.sleep(0.2)\n",
    "    print('Finished %s at %.1f' % (name, time.time() - t))\n",
    "    \n",
    "loop = asyncio.get_event_loop()\n",
    "result = loop.call_at(loop.time() + .2, printer, 'call_at')\n",
    "result = loop.call_later(.1, printer, 'call_later')\n",
    "result = loop.call_soon(printer, 'call_soon')\n",
    "result = loop.call_soon_threadsafe(printer, 'call_soon_threadsafe')\n",
    "\n",
    "# Make sure we stop after a second\n",
    "result = loop.call_later(1, loop.stop)\n",
    "loop.run_forever()\n",
    "\n",
    "# 결과는 그냥 순차 수행.. time.sleep 떼문"
   ]
  },
  {
   "cell_type": "code",
   "execution_count": null,
   "metadata": {},
   "outputs": [],
   "source": [
    "Started call_soon at 0.0\n",
    "Finished call_soon at 0.2\n",
    "Started call_soon_threadsafe at 0.2\n",
    "Finished call_soon_threadsafe at 0.4\n",
    "Started call_later at 0.4\n",
    "Finished call_later at 0.6\n",
    "Started call_at at 0.6\n",
    "Finished call_at at 0.8"
   ]
  },
  {
   "cell_type": "code",
   "execution_count": null,
   "metadata": {},
   "outputs": [],
   "source": [
    "import time\n",
    "import asyncio\n",
    "\n",
    "t = time.time()\n",
    "def printer(name):\n",
    "    print('Started %s at %.1f' % (name, time.time() - t))\n",
    "    await asyncio.sleep(0.2)\n",
    "    print('Finished %s at %.1f' % (name, time.time() - t))\n",
    "    \n",
    "loop = asyncio.get_event_loop()\n",
    "result = loop.call_at(loop.time() + .2, printer, 'call_at')\n",
    "result = loop.call_later(.1, printer, 'call_later')\n",
    "result = loop.call_soon(printer, 'call_soon')\n",
    "result = loop.call_soon_threadsafe(printer, 'call_soon_threadsafe')\n",
    "\n",
    "# Make sure we stop after a second\n",
    "result = loop.call_later(1, loop.stop)\n",
    "loop.run_forever()\n",
    "\n"
   ]
  },
  {
   "cell_type": "code",
   "execution_count": null,
   "metadata": {},
   "outputs": [],
   "source": [
    "Started call_soon at 0.0\n",
    "Started call_soon_threadsafe at 0.0\n",
    "Started call_later at 0.1\n",
    "Started call_at at 0.2\n",
    "Finished call_soon at 0.2\n",
    "Finished call_soon_threadsafe at 0.2\n",
    "Finished call_later at 0.3\n",
    "Finished call_at at 0.4"
   ]
  },
  {
   "cell_type": "markdown",
   "metadata": {},
   "source": [
    "## Process\n",
    "\n",
    "* 외부의 long-running task와 연동해야 할 경우"
   ]
  },
  {
   "cell_type": "code",
   "execution_count": null,
   "metadata": {},
   "outputs": [],
   "source": [
    "# 아래는 프로세스 순차 수행 \n",
    "\n",
    "import time\n",
    "import subprocess\n",
    "\n",
    "t = time.time()\n",
    "\n",
    "def process_sleeper():\n",
    "    print('Started sleep at %.1f' % (time.time() - t))\n",
    "    process = subprocess.Popen(['sleep', '0.1'])\n",
    "    process.wait()\n",
    "    print('Finished sleep at %.1f' % (time.time() - t))\n",
    "for i in range(3):\n",
    "    process_sleeper()"
   ]
  },
  {
   "cell_type": "code",
   "execution_count": null,
   "metadata": {},
   "outputs": [],
   "source": [
    "\n",
    "# 아래는 병렬 프로세스 수행이지만 messy code\n",
    "\n",
    "import time\n",
    "import subprocess\n",
    "\n",
    "t = time.time()\n",
    "\n",
    "def process_sleeper():\n",
    "    print('Started sleep at %.1f' % (time.time() - t))\n",
    "    return subprocess.Popen(['sleep', '0.1'])\n",
    "\n",
    "processes = []\n",
    "for i in range(5):\n",
    "    processes.append(process_sleeper())\n",
    "\n",
    "for process in processes:\n",
    "    returncode = process.wait()\n",
    "    print('Finished sleep at %.1f' % (time.time() - t))    "
   ]
  },
  {
   "cell_type": "code",
   "execution_count": null,
   "metadata": {},
   "outputs": [],
   "source": [
    "\n",
    "# 아래는 asyncio 기반 병렬 프로세스 수행\n",
    "\n",
    "import time\n",
    "import subprocess\n",
    "\n",
    "t = time.time()\n",
    "\n",
    "async def async_process_sleeper():\n",
    "    print('Started sleep at %.1f' % (time.time() - t))\n",
    "    process = await asyncio.create_subprocess_exec('sleep', '0.1')\n",
    "    await process.wait()\n",
    "    print('Finished sleep at %.1f' % (time.time() - t))\n",
    "\n",
    "loop = asyncio.get_event_loop()\n",
    "for i in range(5):\n",
    "    task = loop.create_task(async_process_sleeper())\n",
    "\n",
    "future = loop.call_later(.5, loop.stop)\n",
    "loop.run_forever()"
   ]
  },
  {
   "cell_type": "code",
   "execution_count": null,
   "metadata": {},
   "outputs": [],
   "source": [
    "# 이제는 프로세스의 수행의 리턴 결과가 있는 경우\n",
    "\n",
    "import asyncio\n",
    "\n",
    "async def run_script():\n",
    "    process = await asyncio.create_subprocess_shell(\n",
    "        'python3',\n",
    "        stdout=asyncio.subprocess.PIPE,\n",
    "        stdin=asyncio.subprocess.PIPE,\n",
    "    )\n",
    "\n",
    "    # Write a simple Python script to the interpreter\n",
    "    process.stdin.write(b'\\n'.join((\n",
    "        b'import math',\n",
    "        b'x = 2 ** 8',\n",
    "        b'y = math.sqrt(x)',\n",
    "        b'z = math.sqrt(y)',\n",
    "        b'print(\"x: %d\" % x)',\n",
    "        b'print(\"y: %d\" % y)',\n",
    "        b'print(\"z: %d\" % z)',\n",
    "        b'for i in range(int(z)):',\n",
    "        b' print(\"i: %d\" % i)',\n",
    "    )))\n",
    "\n",
    "    # Make sure the stdin is flushed asynchronously\n",
    "    await process.stdin.drain()\n",
    "    \n",
    "    # And send the end of file so the Python interpreter will\n",
    "    # start processing the input. Without this the process will\n",
    "    # stall forever.\n",
    "    process.stdin.write_eof()\n",
    "    \n",
    "    # Fetch the lines from the stdout asynchronously\n",
    "    async for out in process.stdout:\n",
    "        # Decode the output from bytes and strip the whitespace\n",
    "        # (newline) at the right\n",
    "        print(out.decode('utf-8').rstrip())\n",
    "\n",
    "    # Wait for the process to exit\n",
    "    await process.wait()\n",
    "\n",
    "if __name__ == '__main__':\n",
    "    loop = asyncio.get_event_loop()\n",
    "    loop.run_until_complete(run_script())\n",
    "    loop.close()    "
   ]
  },
  {
   "cell_type": "markdown",
   "metadata": {},
   "source": [
    "# Asynchronous servers and clients"
   ]
  },
  {
   "cell_type": "code",
   "execution_count": null,
   "metadata": {},
   "outputs": [],
   "source": [
    "import time\n",
    "import sys\n",
    "import asyncio\n",
    "\n",
    "HOST = '127.0.0.1'\n",
    "PORT = 1234\n",
    "start_time = time.time()\n",
    "\n",
    "def printer(start_time, *args, **kwargs):\n",
    "    '''Simple function to print a message prefixed with the\n",
    "    time relative to the given start_time'''\n",
    "    print('%.1f' % (time.time() - start_time), *args, **kwargs)\n",
    "\n",
    "async def handle_connection(reader, writer):\n",
    "    client_address = writer.get_extra_info('peername')\n",
    "    printer(start_time, 'Client connected', client_address)\n",
    "    # Send over the server start time to get consistent timestamps\n",
    "    writer.write(b'%.2f\\n' % start_time)\n",
    "    await writer.drain()\n",
    "    \n",
    "    repetitions = int((await reader.readline()))\n",
    "    printer(start_time, 'Started sending to', client_address)\n",
    "    for i in range(repetitions):\n",
    "    message = 'client: %r, %d\\n' % (client_address, i)\n",
    "    printer(start_time, message, end='')\n",
    "    writer.write(message.encode())\n",
    "    await writer.drain()\n",
    "\n",
    "    printer(start_time, 'Finished sending to', client_address)\n",
    "    writer.close()\n",
    "\n",
    "async def create_connection(repetitions):\n",
    "    reader, writer = await asyncio.open_connection(host=HOST, port=PORT)\n",
    "    start_time = float((await reader.readline()))\n",
    "    writer.write(repetitions.encode() + b'\\n')\n",
    "    await writer.drain()\n",
    "\n",
    "    async for line in reader:\n",
    "        # Sleeping a little to emulate processing time and make\n",
    "        # it easier to add more simultaneous clients\n",
    "        await asyncio.sleep(1)\n",
    "        printer(start_time, 'Got line: ', line.decode(), end='')\n",
    "        writer.close()    \n",
    "\n",
    "if __name__ == '__main__':\n",
    "    loop = asyncio.get_event_loop()\n",
    "    if sys.argv[1] == 'server':\n",
    "        server = asyncio.start_server(\n",
    "            handle_connection,\n",
    "            host=HOST,\n",
    "            port=PORT,\n",
    "        )\n",
    "        running_server = loop.run_until_complete(server)\n",
    "        try:\n",
    "            result = loop.call_later(5, loop.stop)\n",
    "            loop.run_forever()\n",
    "        except KeyboardInterrupt:\n",
    "            pass\n",
    "        running_server.close()\n",
    "        loop.run_until_complete(running_server.wait_closed())\n",
    "    elif sys.argv[1] == 'client':\n",
    "        loop.run_until_complete(create_connection(sys.argv[2]))\n",
    "        loop.close()"
   ]
  },
  {
   "cell_type": "code",
   "execution_count": null,
   "metadata": {},
   "outputs": [],
   "source": [
    "# python3 simple_connections.py server\n",
    "0.4 Client connected ('127.0.0.1', 59990)\n",
    "0.4 Started sending to ('127.0.0.1', 59990)\n",
    "0.4 client: ('127.0.0.1', 59990), 0\n",
    "0.4 client: ('127.0.0.1', 59990), 1\n",
    "0.4 client: ('127.0.0.1', 59990), 2\n",
    "0.4 Finished sending to ('127.0.0.1', 59990)\n",
    "2.0 Client connected ('127.0.0.1', 59991)\n",
    "2.0 Started sending to ('127.0.0.1', 59991)\n",
    "2.0 client: ('127.0.0.1', 59991), 0\n",
    "2.0 client: ('127.0.0.1', 59991), 1\n",
    "2.0 Finished sending to ('127.0.0.1', 59991)\n",
    "\n",
    "The first client:\n",
    "# python3 simple_connections.py client 3\n",
    "1.4 Got line: client: ('127.0.0.1', 59990), 0\n",
    "2.4 Got line: client: ('127.0.0.1', 59990), 1\n",
    "3.4 Got line: client: ('127.0.0.1', 59990), 2"
   ]
  },
  {
   "cell_type": "code",
   "execution_count": null,
   "metadata": {},
   "outputs": [],
   "source": []
  }
 ],
 "metadata": {
  "kernelspec": {
   "display_name": "Python 3",
   "language": "python",
   "name": "python3"
  },
  "language_info": {
   "codemirror_mode": {
    "name": "ipython",
    "version": 3
   },
   "file_extension": ".py",
   "mimetype": "text/x-python",
   "name": "python",
   "nbconvert_exporter": "python",
   "pygments_lexer": "ipython3",
   "version": "3.6.2"
  }
 },
 "nbformat": 4,
 "nbformat_minor": 2
}
