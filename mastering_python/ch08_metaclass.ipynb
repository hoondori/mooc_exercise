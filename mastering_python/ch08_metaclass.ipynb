{
 "cells": [
  {
   "cell_type": "markdown",
   "metadata": {},
   "source": [
    "# Dynamically creating classes"
   ]
  },
  {
   "cell_type": "code",
   "execution_count": null,
   "metadata": {},
   "outputs": [],
   "source": [
    "Spam = type('Spam', (object,), dict(eggs='my eggs'))\n",
    "spam = Spam()\n",
    "print(spam.eggs)\n",
    "print(type(spam))\n",
    "print(type(Spam))"
   ]
  },
  {
   "cell_type": "code",
   "execution_count": null,
   "metadata": {},
   "outputs": [],
   "source": [
    "class Spam(object, metaclass=type):\n",
    "    pass"
   ]
  },
  {
   "cell_type": "markdown",
   "metadata": {},
   "source": [
    "# A Basic metaclass"
   ]
  },
  {
   "cell_type": "code",
   "execution_count": null,
   "metadata": {},
   "outputs": [],
   "source": [
    "\n",
    "class MetaSpam(type):\n",
    "    def __new__(metaclass, name, bases, namespace):\n",
    "        name = 'SpamCreatedByMeta'\n",
    "        bases = (int, ) + bases\n",
    "        namespace['eggs'] = 1\n",
    "        return type.__new__(metaclass, name, bases, namespace)\n",
    "    \n",
    "class Spam(object, metaclass=MetaSpam):\n",
    "    pass\n",
    "\n",
    "print(Spam.__name__)\n",
    "print(issubclass(Spam,int))\n",
    "print(Spam.eggs)"
   ]
  },
  {
   "cell_type": "markdown",
   "metadata": {},
   "source": [
    "# Arguments to metaclasses"
   ]
  },
  {
   "cell_type": "code",
   "execution_count": null,
   "metadata": {},
   "outputs": [],
   "source": [
    "\n",
    "class MetaWithArguments(type):\n",
    "    def __init__(metaclass, name, bases, namespace, **kwargs):\n",
    "        type.__init__(metaclass, name, bases, namespace)\n",
    "        \n",
    "    def __new__(metaclass, name, bases, namespace, **kwargs):\n",
    "        for k, v in kwargs.items():\n",
    "            namespace.setdefault(k, v)\n",
    "        return type.__new__(metaclass, name, bases, namespace)\n",
    "\n",
    "class WithArgument(metaclass=MetaWithArguments, spam='eggs'):\n",
    "    pass\n",
    "\n",
    "with_argument = WithArgument\n",
    "print(with_argument.spam)"
   ]
  },
  {
   "cell_type": "markdown",
   "metadata": {},
   "source": [
    "# Accessing metaclass attributes through classes"
   ]
  },
  {
   "cell_type": "code",
   "execution_count": null,
   "metadata": {},
   "outputs": [],
   "source": [
    "\n",
    "class Meta(type):\n",
    "    \n",
    "    @property\n",
    "    def spam(cls):\n",
    "        return 'Spam property of %r' % cls \n",
    "    \n",
    "    def eggs(self):\n",
    "        return 'Eggs method of %r ' % self\n",
    "\n",
    "class SomeClass(metaclass=Meta):\n",
    "    pass\n",
    "\n",
    "print(SomeClass.spam)\n",
    "print(SomeClass.eggs)\n",
    "print(SomeClass().spam)"
   ]
  },
  {
   "cell_type": "markdown",
   "metadata": {},
   "source": [
    "# Abstract classes using collections.abc"
   ]
  },
  {
   "cell_type": "code",
   "execution_count": null,
   "metadata": {},
   "outputs": [],
   "source": [
    "import abc\n",
    "\n",
    "class Spam(metaclass=abc.ABCMeta):\n",
    "    \n",
    "    @abc.abstractmethod\n",
    "    def some_method(self):\n",
    "        raise NotImplemented()\n",
    "\n",
    "class Eggs(Spam):\n",
    "    def some_new_method():\n",
    "        pass\n",
    "    \n",
    "eggs = Eggs()\n"
   ]
  },
  {
   "cell_type": "code",
   "execution_count": 4,
   "metadata": {},
   "outputs": [
    {
     "ename": "RuntimeError",
     "evalue": "'some_method' is not really implemented",
     "output_type": "error",
     "traceback": [
      "\u001b[0;31m---------------------------------------------------------------------------\u001b[0m",
      "\u001b[0;31mRuntimeError\u001b[0m                              Traceback (most recent call last)",
      "\u001b[0;32m<ipython-input-4-13221bfa61ad>\u001b[0m in \u001b[0;36m<module>\u001b[0;34m()\u001b[0m\n\u001b[1;32m     45\u001b[0m         \u001b[0;32mpass\u001b[0m\u001b[0;34m\u001b[0m\u001b[0m\n\u001b[1;32m     46\u001b[0m \u001b[0;34m\u001b[0m\u001b[0m\n\u001b[0;32m---> 47\u001b[0;31m \u001b[0meggs\u001b[0m \u001b[0;34m=\u001b[0m \u001b[0mSpam\u001b[0m\u001b[0;34m(\u001b[0m\u001b[0;34m)\u001b[0m\u001b[0;34m\u001b[0m\u001b[0m\n\u001b[0m",
      "\u001b[0;32m<ipython-input-4-13221bfa61ad>\u001b[0m in \u001b[0;36mnew\u001b[0;34m(self, *arg, **kwargs)\u001b[0m\n\u001b[1;32m     31\u001b[0m                 \u001b[0mv\u001b[0m \u001b[0;34m=\u001b[0m \u001b[0mgetattr\u001b[0m\u001b[0;34m(\u001b[0m\u001b[0mself\u001b[0m\u001b[0;34m,\u001b[0m \u001b[0mk\u001b[0m\u001b[0;34m)\u001b[0m\u001b[0;34m\u001b[0m\u001b[0m\n\u001b[1;32m     32\u001b[0m                 \u001b[0;32mif\u001b[0m \u001b[0mgetattr\u001b[0m\u001b[0;34m(\u001b[0m\u001b[0mv\u001b[0m\u001b[0;34m,\u001b[0m \u001b[0;34m'__abstract__'\u001b[0m\u001b[0;34m,\u001b[0m \u001b[0;32mFalse\u001b[0m\u001b[0;34m)\u001b[0m\u001b[0;34m:\u001b[0m\u001b[0;34m\u001b[0m\u001b[0m\n\u001b[0;32m---> 33\u001b[0;31m                     \u001b[0;32mraise\u001b[0m \u001b[0mRuntimeError\u001b[0m\u001b[0;34m(\u001b[0m \u001b[0;34m'%r is not really implemented'\u001b[0m \u001b[0;34m%\u001b[0m \u001b[0mk\u001b[0m\u001b[0;34m)\u001b[0m\u001b[0;34m\u001b[0m\u001b[0m\n\u001b[0m\u001b[1;32m     34\u001b[0m             \u001b[0;32mreturn\u001b[0m \u001b[0moriginal_new\u001b[0m\u001b[0;34m(\u001b[0m\u001b[0mself\u001b[0m\u001b[0;34m,\u001b[0m \u001b[0;34m*\u001b[0m\u001b[0margs\u001b[0m\u001b[0;34m,\u001b[0m \u001b[0;34m**\u001b[0m\u001b[0mkwargs\u001b[0m\u001b[0;34m)\u001b[0m\u001b[0;34m\u001b[0m\u001b[0m\n\u001b[1;32m     35\u001b[0m         \u001b[0mcls\u001b[0m\u001b[0;34m.\u001b[0m\u001b[0m__new__\u001b[0m \u001b[0;34m=\u001b[0m \u001b[0mnew\u001b[0m\u001b[0;34m\u001b[0m\u001b[0m\n",
      "\u001b[0;31mRuntimeError\u001b[0m: 'some_method' is not really implemented"
     ]
    }
   ],
   "source": [
    "# emulate abc.ABCMeta\n",
    "\n",
    "import functools\n",
    "\n",
    "class AbstractMeta(type):\n",
    "    def __new__(metaclass, name, bases, namespace):\n",
    "        cls = super().__new__(metaclass, name, bases, namespace)\n",
    "        \n",
    "        # collect all local methods marked as abstract\n",
    "        abstracts = set()\n",
    "        for k, v in namespace.items():\n",
    "            if getattr(v, '__abstract__', False):\n",
    "                abstracts.add(k)\n",
    "                \n",
    "        # Look for abstract methods in the base classes\n",
    "        for base in bases:\n",
    "            for k in getattr(base, '__abstracts__', ()):\n",
    "                v = getattr(cls, k, None)\n",
    "                if getattr(v, '__abstract__', False):\n",
    "                    abstracts.add(k)\n",
    "        \n",
    "        # Store the abstracts in a frozenset so they cannot be modified\n",
    "        cls.__abstracts__ = frozenset(abstracts)\n",
    "        \n",
    "        # Decorate the __new__ function to check if all abstract\n",
    "        # functions were implemented\n",
    "        original_new = cls.__new__\n",
    "        @functools.wraps(original_new)\n",
    "        def new(self, *arg, **kwargs):\n",
    "            for k in self.__abstracts__:\n",
    "                v = getattr(self, k)\n",
    "                if getattr(v, '__abstract__', False):\n",
    "                    raise RuntimeError( '%r is not really implemented' % k)\n",
    "            return original_new(self, *args, **kwargs)\n",
    "        cls.__new__ = new\n",
    "        return cls\n",
    "    \n",
    "def abstractmethod(function):\n",
    "    function.__abstract__ = True\n",
    "    return function\n",
    "\n",
    "class Spam(object, metaclass=AbstractMeta):\n",
    "    @abstractmethod\n",
    "    def some_method(self):\n",
    "        pass\n",
    "\n",
    "eggs = Spam()"
   ]
  },
  {
   "cell_type": "markdown",
   "metadata": {},
   "source": [
    "# Custom type checks"
   ]
  },
  {
   "cell_type": "code",
   "execution_count": 9,
   "metadata": {},
   "outputs": [
    {
     "name": "stdout",
     "output_type": "stream",
     "text": [
      "<class 'list'>\n",
      "True\n",
      "True\n",
      "False\n",
      "False\n"
     ]
    }
   ],
   "source": [
    "import abc\n",
    "\n",
    "class CustomList(abc.ABC):\n",
    "    pass\n",
    "\n",
    "print(CustomList.register(list))\n",
    "print(issubclass(list, CustomList))\n",
    "print(isinstance([], CustomList))\n",
    "print(issubclass(CustomList, list))\n",
    "print(isinstance(CustomList, list))"
   ]
  },
  {
   "cell_type": "code",
   "execution_count": null,
   "metadata": {},
   "outputs": [],
   "source": []
  }
 ],
 "metadata": {
  "kernelspec": {
   "display_name": "Python 3",
   "language": "python",
   "name": "python3"
  },
  "language_info": {
   "codemirror_mode": {
    "name": "ipython",
    "version": 3
   },
   "file_extension": ".py",
   "mimetype": "text/x-python",
   "name": "python",
   "nbconvert_exporter": "python",
   "pygments_lexer": "ipython3",
   "version": "3.6.2"
  }
 },
 "nbformat": 4,
 "nbformat_minor": 2
}
