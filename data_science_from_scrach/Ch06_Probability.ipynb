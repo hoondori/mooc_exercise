{
 "cells": [
  {
   "cell_type": "markdown",
   "metadata": {},
   "source": [
    "# Ch6. Probability\n",
    "\n",
    "## What is probability\n",
    "\n",
    "### quantifying the uncertainty associated with events chosen from a some universe of events\n",
    "\n",
    "\n",
    "![](./images/ch06_probability/1.png)\n",
    "\n",
    "### function from subset of domain to a real number between 0 and 1\n",
    "\n",
    "![](./images/ch06_probability/2.png)\n",
    "\n",
    "### Dependence and conditional probability\n",
    "\n",
    "![](./images/ch06_probability/3.png)\n",
    "\n",
    "![](./images/ch06_probability/4.png)\n",
    "\n",
    "\n",
    "### Bayes' theorem\n",
    "\n",
    "![](./images/ch06_probability/5.png)\n",
    "\n",
    "![](./images/ch06_probability/6.png)\n",
    "\n",
    "#### skewed class\n",
    "\n",
    "![](./images/ch06_probability/7.png)\n",
    "\n",
    "\n",
    "### Random variable\n",
    "\n",
    "![](./images/ch06_probability/8.png)\n",
    "![](./images/ch06_probability/9.png)\n",
    "\n",
    "### pdf, cdf\n",
    "\n",
    "![](./images/ch06_probability/10.png)\n",
    "\n",
    "### multivariate normal\n",
    "\n",
    "![](./images/ch06_probability/11.png)\n",
    "\n",
    "### Standardization ( zero mean, unit covariance )\n",
    "\n",
    "![](./images/ch06_probability/12.png)\n",
    "\n",
    "\n",
    "### Law of large number\n",
    "\n",
    "sample mean converges to true mean eventually (weak)\n",
    "\n",
    "![](./images/ch06_probability/13.png)\n",
    "\n",
    "![](./images/ch06_probability/14.png)\n",
    "\n",
    "### Central limit theorem\n",
    "\n",
    "distribution of sample mean ( i.e. sampling distribution ) converges to normal \n",
    "\n",
    "![](./images/ch06_probability/15.png)\n",
    "\n",
    "\n",
    "\n"
   ]
  },
  {
   "cell_type": "code",
   "execution_count": null,
   "metadata": {
    "collapsed": true
   },
   "outputs": [],
   "source": []
  }
 ],
 "metadata": {
  "kernelspec": {
   "display_name": "Python 2",
   "language": "python",
   "name": "python2"
  },
  "language_info": {
   "codemirror_mode": {
    "name": "ipython",
    "version": 2
   },
   "file_extension": ".py",
   "mimetype": "text/x-python",
   "name": "python",
   "nbconvert_exporter": "python",
   "pygments_lexer": "ipython2",
   "version": "2.7.11"
  }
 },
 "nbformat": 4,
 "nbformat_minor": 0
}
