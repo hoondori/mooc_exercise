{
 "cells": [
  {
   "cell_type": "markdown",
   "metadata": {},
   "source": [
    "# 여기는 MarkDown 영역입니다.\n",
    "\n",
    "## Header 2\n",
    "### Header 3\n",
    "\n",
    "* dot1\n",
    " * dot2\n",
    " * dot2\n",
    "* dot1\n",
    "\n",
    "# local file로 그림 표현\n",
    "\n",
    "![강아지](./images/puppy.png)\n",
    "\n",
    "\n",
    "# remote file 로 그림 표현 \n",
    "![This is image](http://ipython.org/_static/IPy_header.png)\n",
    "\n",
    "\n",
    "\n",
    "# Latex 로 수학 표현\n",
    "\n",
    "$$\\hat{f}(\\xi) = \\int_{-\\infty}^{+\\infty} f(x)\\, \\mathrm{e}^{-i \\xi x} dx$$\n",
    "\n",
    "\n",
    "\n",
    "# 코드 표현\n",
    "\n",
    "```python\n",
    "print(\"Hello world!\")\n",
    "```\n",
    "\n",
    "\n"
   ]
  },
  {
   "cell_type": "code",
   "execution_count": 1,
   "metadata": {
    "collapsed": false
   },
   "outputs": [
    {
     "data": {
      "text/html": [
       "\n",
       "        <iframe\n",
       "            width=\"400\"\n",
       "            height=\"300\"\n",
       "            src=\"https://www.youtube.com/embed/j9YpkSX7NNM\"\n",
       "            frameborder=\"0\"\n",
       "            allowfullscreen\n",
       "        ></iframe>\n",
       "        "
      ],
      "text/plain": [
       "<IPython.lib.display.YouTubeVideo at 0x103e39cd0>"
      ]
     },
     "execution_count": 1,
     "metadata": {},
     "output_type": "execute_result"
    }
   ],
   "source": [
    "# youtube 재생을 위한 import\n",
    "\n",
    "from IPython.display import YouTubeVideo\n",
    "YouTubeVideo('j9YpkSX7NNM')"
   ]
  },
  {
   "cell_type": "code",
   "execution_count": 7,
   "metadata": {
    "collapsed": false
   },
   "outputs": [
    {
     "name": "stdout",
     "output_type": "stream",
     "text": [
      "The square of 5 is 25\n"
     ]
    }
   ],
   "source": [
    "from ipywidgets import interact\n",
    "@interact(x=(0,10))\n",
    "def square(x):\n",
    "    print(\"The square of %d is %d\" % (x, x**2))"
   ]
  },
  {
   "cell_type": "code",
   "execution_count": 13,
   "metadata": {
    "collapsed": false
   },
   "outputs": [
    {
     "name": "stdout",
     "output_type": "stream",
     "text": [
      "Ch0_IPython_Introduction.ipynb  \u001b[34mimages\u001b[m\u001b[m/\n",
      "#  매직 명령으로 파일 시스템 접근\n",
      "%pwd\n",
      "#  매직 명령으로 파일 시스템 접근\n",
      "%pwd\n",
      "%ls\n",
      "#  매직 명령으로 파일 시스템 접근\n",
      "%pwd\n",
      "%ls\n",
      "%history -l 5\n",
      "#  매직 명령으로 파일 시스템 접근\n",
      "%pwd\n",
      "%ls\n",
      "\n",
      "%lsmagic\n",
      "%history -l 5\n",
      "#  매직 명령으로 파일 시스템 접근\n",
      "%pwd\n",
      "%ls\n",
      "\n",
      "%lsmagic\n",
      "#%history -l 5\n"
     ]
    }
   ],
   "source": [
    "#  매직 명령으로 파일 시스템 접근\n",
    "%pwd\n",
    "%ls\n",
    "\n",
    "%lsmagic"
   ]
  },
  {
   "cell_type": "code",
   "execution_count": 16,
   "metadata": {
    "collapsed": true
   },
   "outputs": [],
   "source": [
    "# python 객체 들여다보기\n",
    "import networkx\n",
    "networkx.Graph?"
   ]
  },
  {
   "cell_type": "code",
   "execution_count": 2,
   "metadata": {
    "collapsed": false
   },
   "outputs": [
    {
     "name": "stdout",
     "output_type": "stream",
     "text": [
      "Hello\n"
     ]
    }
   ],
   "source": [
    "print(\"Hello\")"
   ]
  },
  {
   "cell_type": "markdown",
   "metadata": {},
   "source": [
    "# heaing\n"
   ]
  }
 ],
 "metadata": {
  "kernelspec": {
   "display_name": "Python 2",
   "language": "python",
   "name": "python2"
  },
  "language_info": {
   "codemirror_mode": {
    "name": "ipython",
    "version": 2
   },
   "file_extension": ".py",
   "mimetype": "text/x-python",
   "name": "python",
   "nbconvert_exporter": "python",
   "pygments_lexer": "ipython2",
   "version": "2.7.11"
  }
 },
 "nbformat": 4,
 "nbformat_minor": 0
}
