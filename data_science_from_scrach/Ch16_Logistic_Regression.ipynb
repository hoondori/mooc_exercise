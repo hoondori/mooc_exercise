{
 "cells": [
  {
   "cell_type": "markdown",
   "metadata": {},
   "source": [
    "# Review on Linear Regression\n",
    "\n",
    "* find best mapping for real value fitting\n",
    "\n",
    "## multiple linear regression\n",
    "\n",
    "* linearity : dependent variables are linear combination of input variables itself\n",
    "\n",
    "![](./images/ch16_logistic/1.png)\n",
    "![](./images/ch16_logistic/2.png)\n",
    "\n",
    "\n",
    "## polynomial regression\n",
    "\n",
    "* linearity : dependent variables are linear combination of transformed input variables\n",
    "\n",
    "\n",
    "![](./images/ch16_logistic/3.png)\n",
    "\n"
   ]
  },
  {
   "cell_type": "markdown",
   "metadata": {},
   "source": [
    "# Logistic Regression\n",
    "\n",
    "* binary classification\n",
    "\n",
    "![](./images/ch16_logistic/5.png)\n",
    "![](./images/ch16_logistic/4.png)\n",
    "![](./images/ch16_logistic/6.png)\n",
    "\n",
    "* linearity in decision boundary\n",
    "\n",
    "![](./images/ch16_logistic/7.png)\n",
    "![](./images/ch16_logistic/8.png)\n"
   ]
  },
  {
   "cell_type": "markdown",
   "metadata": {},
   "source": [
    "# Support Vector Machine as sufficient margin\n",
    "\n",
    "\n",
    "* Focus on the boundary, not data itself\n",
    "* suffcient margin between support vectors\n",
    "\n",
    "![](./images/ch16_logistic/9.png)\n",
    "![](./images/ch16_logistic/10.png)\n",
    "\n",
    "\n",
    "\n"
   ]
  },
  {
   "cell_type": "markdown",
   "metadata": {},
   "source": [
    "# Non-linear support vector machine\n",
    "\n",
    "* What if data is non linear seperable\n",
    "* transform it into being seperable\n",
    "\n",
    "![](./images/ch16_logistic/11.png)\n",
    "![](./images/ch16_logistic/12.png)\n",
    "![](./images/ch16_logistic/13.png)\n"
   ]
  },
  {
   "cell_type": "markdown",
   "metadata": {},
   "source": [
    "# How to find proper mapping function ?\n",
    "\n",
    "* it means how well you understand data or your problems\n",
    "* Deep learning appears to understand the data well more than human does\n",
    "\n"
   ]
  },
  {
   "cell_type": "code",
   "execution_count": null,
   "metadata": {
    "collapsed": true
   },
   "outputs": [],
   "source": []
  }
 ],
 "metadata": {
  "kernelspec": {
   "display_name": "Python 2",
   "language": "python",
   "name": "python2"
  },
  "language_info": {
   "codemirror_mode": {
    "name": "ipython",
    "version": 2
   },
   "file_extension": ".py",
   "mimetype": "text/x-python",
   "name": "python",
   "nbconvert_exporter": "python",
   "pygments_lexer": "ipython2",
   "version": "2.7.11"
  }
 },
 "nbformat": 4,
 "nbformat_minor": 0
}
